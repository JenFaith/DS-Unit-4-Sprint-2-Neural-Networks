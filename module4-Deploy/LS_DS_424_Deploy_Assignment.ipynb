{
 "cells": [
  {
   "cell_type": "markdown",
   "metadata": {
    "colab_type": "text",
    "id": "NGGrt9EYlCqY"
   },
   "source": [
    "<img align=\"left\" src=\"https://lever-client-logos.s3.amazonaws.com/864372b1-534c-480e-acd5-9711f850815c-1524247202159.png\" width=200>\n",
    "<br></br>\n",
    "<br></br>\n",
    "\n",
    "# Train Practice\n",
    "\n",
    "## *Data Science Unit 4 Sprint 2 Assignment 4*\n",
    "\n",
    "Continue to use TensorFlow Keras & a sample of the [Quickdraw dataset](https://github.com/googlecreativelab/quickdraw-dataset) to build a sketch classification model. The dataset has been sampled to only 10 classes and 10000 observations per class. Apply regularization techniques to your model. \n",
    "\n",
    "*Don't forgot to switch to GPU on Colab!*"
   ]
  },
  {
   "cell_type": "markdown",
   "metadata": {
    "colab_type": "text",
    "id": "ptJ2b3wk62Ud"
   },
   "source": [
    "## Regularization\n",
    "\n",
    "Using your best performing model from the previous module, apply each of the following regularization strategies: \n",
    "* Early Stopping\n",
    "* Dropout\n",
    "* Weight Decay\n",
    "* Weight Constraint\n"
   ]
  },
  {
   "cell_type": "code",
   "execution_count": 21,
   "metadata": {
    "colab": {},
    "colab_type": "code",
    "id": "USXjs7Hk71Hy"
   },
   "outputs": [],
   "source": [
    "import pandas as pd\n",
    "import numpy as np\n",
    "import tensorflow as ts\n",
    "import seaborn as sns"
   ]
  },
  {
   "cell_type": "code",
   "execution_count": 2,
   "metadata": {},
   "outputs": [],
   "source": [
    "from sklearn.model_selection import GridSearchCV\n",
    "from tensorflow.keras.models import Sequential\n",
    "from tensorflow.keras.layers import Dense\n",
    "\n",
    "# required for compatibility bewteen sklearn and keras\n",
    "from tensorflow.keras.wrappers.scikit_learn import KerasClassifier\n",
    "\n",
    "from sklearn.model_selection import train_test_split\n",
    "from sklearn.utils import shuffle"
   ]
  },
  {
   "cell_type": "code",
   "execution_count": 6,
   "metadata": {},
   "outputs": [],
   "source": [
    "from tensorflow.keras.callbacks import EarlyStopping, TensorBoard\n",
    "from tensorflow.keras.layers import Flatten, Dense\n",
    "from tensorflow.keras.layers import ReLU\n",
    "import tensorflow as tf\n",
    "import os\n"
   ]
  },
  {
   "cell_type": "code",
   "execution_count": 3,
   "metadata": {},
   "outputs": [],
   "source": [
    "path=\"/Users/jenniferquigley/DS22/DS-Unit-4-Sprint-2-Neural-Networks/module2-Train/quickdraw10.npz\""
   ]
  },
  {
   "cell_type": "code",
   "execution_count": 4,
   "metadata": {},
   "outputs": [],
   "source": [
    "def load_quickdraw10(path):\n",
    "    # Load dataset\n",
    "    data = np.load(path)\n",
    "    \n",
    "    # Split into X & y\n",
    "    X = data['arr_0']\n",
    "    y = data['arr_1']\n",
    "    \n",
    "    # normalize X\n",
    "    X = X.astype('float')/255\n",
    "    \n",
    "    # Randomly shuffle X & y\n",
    "    X, y = shuffle(X, y)\n",
    "    \n",
    "    X_train, X_test, y_train, y_test = train_test_split(X, y, test_size = 0.33, random_state = 42)\n",
    "    \n",
    "    # Split into train, test sets\n",
    "    return X_train, y_train, X_test, y_test"
   ]
  },
  {
   "cell_type": "code",
   "execution_count": 19,
   "metadata": {},
   "outputs": [],
   "source": [
    "X_train, y_train, X_test, y_test = load_quickdraw10(path)"
   ]
  },
  {
   "cell_type": "code",
   "execution_count": 37,
   "metadata": {},
   "outputs": [],
   "source": [
    "def create_model(units=32):\n",
    "\n",
    "    # instaniate a Sequential object\n",
    "    model = Sequential()\n",
    "    \n",
    "    # add hidden layer \n",
    "    model.add(Dense(units, input_dim=784, activation=\"relu\"))\n",
    "    \n",
    "    # add output layer \n",
    "    # for multi-class classification, you necessarily must use the softmax act func \n",
    "    # number of units = number of unique labels to predict\n",
    "    model.add(Dense(10, activation = \"softmax\"))\n",
    "    \n",
    "    # complie the model \n",
    "    model.compile(loss=\"sparse_categorical_crossentropy\", \n",
    "                  optimizer=\"adam\",\n",
    "                  metrics=[\"accuracy\"])\n",
    "    \n",
    "    # return the model \n",
    "    return model"
   ]
  },
  {
   "cell_type": "code",
   "execution_count": 14,
   "metadata": {},
   "outputs": [],
   "source": [
    "model = KerasClassifier(build_fn=create_model)"
   ]
  },
  {
   "cell_type": "markdown",
   "metadata": {},
   "source": [
    "## Early Stopping"
   ]
  },
  {
   "cell_type": "code",
   "execution_count": 17,
   "metadata": {},
   "outputs": [],
   "source": [
    "logdir = os.path.join(\"logs\", \n",
    "                      \"EarlyStopping-Loss\")\n",
    "\n",
    "# instantiate a tensorboard callback object\n",
    "tensorboard_callback = tf.keras.callbacks.TensorBoard(logdir)\n",
    "\n",
    "# instantiate a early stopping clallback object \n",
    "stop = EarlyStopping(monitor=\"val_loss\", # track the progress of the test loss \n",
    "                     min_delta=0.001, # define threshold for what constitutes an improvment \n",
    "                     patience=5) # if an improvement doesn't happen after 5 epoches, stop training "
   ]
  },
  {
   "cell_type": "code",
   "execution_count": 18,
   "metadata": {},
   "outputs": [
    {
     "name": "stdout",
     "output_type": "stream",
     "text": [
      "Epoch 1/15\n",
      "524/524 [==============================] - 2s 3ms/step - loss: 1.0495 - accuracy: 0.6774 - val_loss: 0.6713 - val_accuracy: 0.8051\n",
      "Epoch 2/15\n",
      "524/524 [==============================] - 1s 2ms/step - loss: 0.6073 - accuracy: 0.8235 - val_loss: 0.5816 - val_accuracy: 0.8284\n",
      "Epoch 3/15\n",
      "524/524 [==============================] - 1s 2ms/step - loss: 0.5145 - accuracy: 0.8499 - val_loss: 0.5432 - val_accuracy: 0.8407\n",
      "Epoch 4/15\n",
      "524/524 [==============================] - 1s 2ms/step - loss: 0.4715 - accuracy: 0.8622 - val_loss: 0.5227 - val_accuracy: 0.8469\n",
      "Epoch 5/15\n",
      "524/524 [==============================] - 1s 2ms/step - loss: 0.4315 - accuracy: 0.8737 - val_loss: 0.5026 - val_accuracy: 0.8536\n",
      "Epoch 6/15\n",
      "524/524 [==============================] - 1s 2ms/step - loss: 0.4023 - accuracy: 0.8818 - val_loss: 0.4953 - val_accuracy: 0.8568\n",
      "Epoch 7/15\n",
      "524/524 [==============================] - 1s 2ms/step - loss: 0.3754 - accuracy: 0.8890 - val_loss: 0.4920 - val_accuracy: 0.8585\n",
      "Epoch 8/15\n",
      "524/524 [==============================] - 1s 2ms/step - loss: 0.3610 - accuracy: 0.8930 - val_loss: 0.4899 - val_accuracy: 0.8583\n",
      "Epoch 9/15\n",
      "524/524 [==============================] - 1s 2ms/step - loss: 0.3446 - accuracy: 0.8998 - val_loss: 0.4930 - val_accuracy: 0.8605\n",
      "Epoch 10/15\n",
      "524/524 [==============================] - 1s 2ms/step - loss: 0.3250 - accuracy: 0.9044 - val_loss: 0.4965 - val_accuracy: 0.8592\n",
      "Epoch 11/15\n",
      "524/524 [==============================] - 1s 3ms/step - loss: 0.3145 - accuracy: 0.9086 - val_loss: 0.5011 - val_accuracy: 0.8574\n",
      "Epoch 12/15\n",
      "524/524 [==============================] - 1s 2ms/step - loss: 0.2964 - accuracy: 0.9122 - val_loss: 0.4974 - val_accuracy: 0.8607\n",
      "Epoch 13/15\n",
      "524/524 [==============================] - 1s 2ms/step - loss: 0.2846 - accuracy: 0.9158 - val_loss: 0.5103 - val_accuracy: 0.8587\n"
     ]
    },
    {
     "data": {
      "text/plain": [
       "<tensorflow.python.keras.callbacks.History at 0x17ce3fbe0>"
      ]
     },
     "execution_count": 18,
     "metadata": {},
     "output_type": "execute_result"
    }
   ],
   "source": [
    "# fit model \n",
    "model.fit(X_train, y_train, \n",
    "          epochs=15,\n",
    "          batch_size = 128,\n",
    "          validation_data=(X_test, y_test), \n",
    "          callbacks=[tensorboard_callback, stop])"
   ]
  },
  {
   "cell_type": "markdown",
   "metadata": {},
   "source": [
    "## Weight Decay\n",
    "- shrinks down the weights"
   ]
  },
  {
   "cell_type": "code",
   "execution_count": 52,
   "metadata": {},
   "outputs": [],
   "source": [
    "from tensorflow.keras import regularizers\n",
    "from tensorflow.keras.callbacks import EarlyStopping, TensorBoard\n",
    "import tensorflow as tf\n",
    "import os"
   ]
  },
  {
   "cell_type": "code",
   "execution_count": 53,
   "metadata": {},
   "outputs": [],
   "source": [
    "def create_model(units=32):\n",
    "\n",
    "    # instaniate a Sequential object\n",
    "    model = Sequential()\n",
    "    \n",
    "    # add hidden layer \n",
    "    model.add(Dense(units, input_dim=784, activation=\"relu\"))\n",
    "    \n",
    "    # add output layer \n",
    "    # for multi-class classification, you necessarily must use the softmax act func \n",
    "    # number of units = number of unique labels to predict\n",
    "    model.add(Dense(10, activation = \"softmax\", kernel_regularizer=regularizers.l2(0.01)))\n",
    "    \n",
    "    # complie the model \n",
    "    model.compile(loss=\"sparse_categorical_crossentropy\", \n",
    "                  optimizer=\"adam\",\n",
    "                  metrics=[\"accuracy\"])\n",
    "    \n",
    "    # return the model \n",
    "    return model"
   ]
  },
  {
   "cell_type": "code",
   "execution_count": 40,
   "metadata": {},
   "outputs": [
    {
     "name": "stdout",
     "output_type": "stream",
     "text": [
      "Epoch 1/100\n",
      "2094/2094 [==============================] - 3s 1ms/step - loss: 1.1819 - accuracy: 0.6769 - val_loss: 0.8061 - val_accuracy: 0.7875\n",
      "Epoch 2/100\n",
      "2094/2094 [==============================] - 3s 1ms/step - loss: 0.7752 - accuracy: 0.7977 - val_loss: 0.7130 - val_accuracy: 0.8111\n",
      "Epoch 3/100\n",
      "2094/2094 [==============================] - 3s 1ms/step - loss: 0.6992 - accuracy: 0.8164 - val_loss: 0.6734 - val_accuracy: 0.8205\n",
      "Epoch 4/100\n",
      "2094/2094 [==============================] - 3s 1ms/step - loss: 0.6516 - accuracy: 0.8277 - val_loss: 0.6464 - val_accuracy: 0.8259\n",
      "Epoch 5/100\n",
      "2094/2094 [==============================] - 3s 1ms/step - loss: 0.6227 - accuracy: 0.8363 - val_loss: 0.6250 - val_accuracy: 0.8308\n",
      "Epoch 6/100\n",
      "2094/2094 [==============================] - 3s 1ms/step - loss: 0.5959 - accuracy: 0.8418 - val_loss: 0.6141 - val_accuracy: 0.8338\n",
      "Epoch 7/100\n",
      "2094/2094 [==============================] - 3s 1ms/step - loss: 0.5732 - accuracy: 0.8473 - val_loss: 0.6036 - val_accuracy: 0.8337\n",
      "Epoch 8/100\n",
      "2094/2094 [==============================] - 3s 2ms/step - loss: 0.5695 - accuracy: 0.8484 - val_loss: 0.6028 - val_accuracy: 0.8366\n",
      "Epoch 9/100\n",
      "2094/2094 [==============================] - 3s 1ms/step - loss: 0.5554 - accuracy: 0.8515 - val_loss: 0.5907 - val_accuracy: 0.8401\n",
      "Epoch 10/100\n",
      "2094/2094 [==============================] - 3s 1ms/step - loss: 0.5507 - accuracy: 0.8522 - val_loss: 0.5870 - val_accuracy: 0.8401\n",
      "Epoch 11/100\n",
      "2094/2094 [==============================] - 3s 1ms/step - loss: 0.5360 - accuracy: 0.8575 - val_loss: 0.5857 - val_accuracy: 0.8385\n",
      "Epoch 12/100\n",
      "2094/2094 [==============================] - 3s 1ms/step - loss: 0.5244 - accuracy: 0.8598 - val_loss: 0.5843 - val_accuracy: 0.8402\n",
      "Epoch 13/100\n",
      "2094/2094 [==============================] - 3s 1ms/step - loss: 0.5206 - accuracy: 0.8594 - val_loss: 0.5786 - val_accuracy: 0.8429\n",
      "Epoch 14/100\n",
      "2094/2094 [==============================] - 3s 1ms/step - loss: 0.5085 - accuracy: 0.8641 - val_loss: 0.5798 - val_accuracy: 0.8428\n",
      "Epoch 15/100\n",
      "2094/2094 [==============================] - 3s 1ms/step - loss: 0.5143 - accuracy: 0.8642 - val_loss: 0.5804 - val_accuracy: 0.8401\n",
      "Epoch 16/100\n",
      "2094/2094 [==============================] - 3s 1ms/step - loss: 0.5035 - accuracy: 0.8656 - val_loss: 0.5735 - val_accuracy: 0.8428\n",
      "Epoch 17/100\n",
      "2094/2094 [==============================] - 2s 1ms/step - loss: 0.5024 - accuracy: 0.8656 - val_loss: 0.5734 - val_accuracy: 0.8415\n",
      "Epoch 18/100\n",
      "2094/2094 [==============================] - 3s 1ms/step - loss: 0.4974 - accuracy: 0.8650 - val_loss: 0.5733 - val_accuracy: 0.8413\n",
      "Epoch 19/100\n",
      "2094/2094 [==============================] - 3s 1ms/step - loss: 0.4941 - accuracy: 0.8681 - val_loss: 0.5726 - val_accuracy: 0.8421\n",
      "Epoch 20/100\n",
      "2094/2094 [==============================] - 3s 1ms/step - loss: 0.4874 - accuracy: 0.8682 - val_loss: 0.5706 - val_accuracy: 0.8429\n",
      "Epoch 21/100\n",
      "2094/2094 [==============================] - 3s 1ms/step - loss: 0.4880 - accuracy: 0.8699 - val_loss: 0.5765 - val_accuracy: 0.8404\n",
      "Epoch 22/100\n",
      "2094/2094 [==============================] - 3s 1ms/step - loss: 0.4845 - accuracy: 0.8695 - val_loss: 0.5680 - val_accuracy: 0.8431\n",
      "Epoch 23/100\n",
      "2094/2094 [==============================] - 3s 1ms/step - loss: 0.4752 - accuracy: 0.8720 - val_loss: 0.5732 - val_accuracy: 0.8424\n",
      "Epoch 24/100\n",
      "2094/2094 [==============================] - 3s 1ms/step - loss: 0.4745 - accuracy: 0.8723 - val_loss: 0.5638 - val_accuracy: 0.8456\n",
      "Epoch 25/100\n",
      "2094/2094 [==============================] - 3s 1ms/step - loss: 0.4775 - accuracy: 0.8725 - val_loss: 0.5778 - val_accuracy: 0.8431\n",
      "Epoch 26/100\n",
      "2094/2094 [==============================] - 3s 1ms/step - loss: 0.4672 - accuracy: 0.8735 - val_loss: 0.5665 - val_accuracy: 0.8455\n",
      "Epoch 27/100\n",
      "2094/2094 [==============================] - 3s 1ms/step - loss: 0.4714 - accuracy: 0.8719 - val_loss: 0.5684 - val_accuracy: 0.8444\n",
      "Epoch 28/100\n",
      "2094/2094 [==============================] - 3s 1ms/step - loss: 0.4696 - accuracy: 0.8743 - val_loss: 0.5678 - val_accuracy: 0.8450\n",
      "Epoch 29/100\n",
      "2094/2094 [==============================] - 3s 1ms/step - loss: 0.4637 - accuracy: 0.8759 - val_loss: 0.5663 - val_accuracy: 0.8442\n"
     ]
    },
    {
     "data": {
      "text/plain": [
       "<tensorflow.python.keras.callbacks.History at 0x14a95d460>"
      ]
     },
     "execution_count": 40,
     "metadata": {},
     "output_type": "execute_result"
    }
   ],
   "source": [
    "model = KerasClassifier(build_fn=create_model)\n",
    "\n",
    "logdir = os.path.join(\"logs\", \n",
    "                      \"EarlyStopping+L2_WeightDecay\")\n",
    "\n",
    "tensorboard_callback = tf.keras.callbacks.TensorBoard(logdir)\n",
    "\n",
    "model.fit(X_train, y_train, \n",
    "          epochs=100, \n",
    "          validation_data=(X_test, y_test), \n",
    "          callbacks=[tensorboard_callback, stop])"
   ]
  },
  {
   "cell_type": "code",
   "execution_count": 41,
   "metadata": {},
   "outputs": [
    {
     "ename": "AttributeError",
     "evalue": "'KerasClassifier' object has no attribute 'summary'",
     "output_type": "error",
     "traceback": [
      "\u001b[0;31m---------------------------------------------------------------------------\u001b[0m",
      "\u001b[0;31mAttributeError\u001b[0m                            Traceback (most recent call last)",
      "\u001b[0;32m<ipython-input-41-5f15418b3570>\u001b[0m in \u001b[0;36m<module>\u001b[0;34m\u001b[0m\n\u001b[0;32m----> 1\u001b[0;31m \u001b[0mmodel\u001b[0m\u001b[0;34m.\u001b[0m\u001b[0msummary\u001b[0m\u001b[0;34m(\u001b[0m\u001b[0;34m)\u001b[0m\u001b[0;34m\u001b[0m\u001b[0;34m\u001b[0m\u001b[0m\n\u001b[0m",
      "\u001b[0;31mAttributeError\u001b[0m: 'KerasClassifier' object has no attribute 'summary'"
     ]
    }
   ],
   "source": [
    "model.summary()"
   ]
  },
  {
   "cell_type": "code",
   "execution_count": 42,
   "metadata": {},
   "outputs": [
    {
     "name": "stdout",
     "output_type": "stream",
     "text": [
      "The tensorboard extension is already loaded. To reload it, use:\n",
      "  %reload_ext tensorboard\n"
     ]
    }
   ],
   "source": [
    "%load_ext tensorboard"
   ]
  },
  {
   "cell_type": "code",
   "execution_count": 43,
   "metadata": {},
   "outputs": [
    {
     "data": {
      "text/html": [
       "\n",
       "      <iframe id=\"tensorboard-frame-4f7dcc02a414f72d\" width=\"100%\" height=\"800\" frameborder=\"0\">\n",
       "      </iframe>\n",
       "      <script>\n",
       "        (function() {\n",
       "          const frame = document.getElementById(\"tensorboard-frame-4f7dcc02a414f72d\");\n",
       "          const url = new URL(\"/\", window.location);\n",
       "          const port = 8090;\n",
       "          if (port) {\n",
       "            url.port = port;\n",
       "          }\n",
       "          frame.src = url;\n",
       "        })();\n",
       "      </script>\n",
       "    "
      ],
      "text/plain": [
       "<IPython.core.display.HTML object>"
      ]
     },
     "metadata": {},
     "output_type": "display_data"
    }
   ],
   "source": [
    "%tensorboard --logdir=logs/ --host localhost --port 8090"
   ]
  },
  {
   "cell_type": "markdown",
   "metadata": {},
   "source": [
    "## Weight Constraint"
   ]
  },
  {
   "cell_type": "code",
   "execution_count": 48,
   "metadata": {},
   "outputs": [],
   "source": [
    "from tensorflow.keras.constraints import MaxNorm"
   ]
  },
  {
   "cell_type": "code",
   "execution_count": 49,
   "metadata": {},
   "outputs": [],
   "source": [
    "def create_model(units=32):\n",
    "\n",
    "    # instaniate a Sequential object\n",
    "    model = Sequential()\n",
    "    \n",
    "    wc = MaxNorm(max_value=2)\n",
    "    \n",
    "    # add hidden layer \n",
    "    model.add(Dense(units, input_dim=784, activation=\"relu\"))\n",
    "    \n",
    "    # add output layer \n",
    "    # for multi-class classification, you necessarily must use the softmax act func \n",
    "    # number of units = number of unique labels to predict\n",
    "    model.add(Dense(10, activation = \"softmax\", kernel_regularizer=wc))\n",
    "    \n",
    "    # complie the model \n",
    "    model.compile(loss=\"sparse_categorical_crossentropy\", \n",
    "                  optimizer=\"adam\",\n",
    "                  metrics=[\"accuracy\"])\n",
    "    \n",
    "    # return the model \n",
    "    return model"
   ]
  },
  {
   "cell_type": "code",
   "execution_count": 51,
   "metadata": {},
   "outputs": [
    {
     "name": "stdout",
     "output_type": "stream",
     "text": [
      "Epoch 1/100\n"
     ]
    },
    {
     "ename": "ValueError",
     "evalue": "in user code:\n\n    /Users/jenniferquigley/.local/share/virtualenvs/DS-Unit-4-Sprint-2-Neural-Networks-f6C6DwwC/lib/python3.8/site-packages/tensorflow/python/keras/engine/training.py:805 train_function  *\n        return step_function(self, iterator)\n    /Users/jenniferquigley/.local/share/virtualenvs/DS-Unit-4-Sprint-2-Neural-Networks-f6C6DwwC/lib/python3.8/site-packages/tensorflow/python/keras/engine/training.py:795 step_function  **\n        outputs = model.distribute_strategy.run(run_step, args=(data,))\n    /Users/jenniferquigley/.local/share/virtualenvs/DS-Unit-4-Sprint-2-Neural-Networks-f6C6DwwC/lib/python3.8/site-packages/tensorflow/python/distribute/distribute_lib.py:1259 run\n        return self._extended.call_for_each_replica(fn, args=args, kwargs=kwargs)\n    /Users/jenniferquigley/.local/share/virtualenvs/DS-Unit-4-Sprint-2-Neural-Networks-f6C6DwwC/lib/python3.8/site-packages/tensorflow/python/distribute/distribute_lib.py:2730 call_for_each_replica\n        return self._call_for_each_replica(fn, args, kwargs)\n    /Users/jenniferquigley/.local/share/virtualenvs/DS-Unit-4-Sprint-2-Neural-Networks-f6C6DwwC/lib/python3.8/site-packages/tensorflow/python/distribute/distribute_lib.py:3417 _call_for_each_replica\n        return fn(*args, **kwargs)\n    /Users/jenniferquigley/.local/share/virtualenvs/DS-Unit-4-Sprint-2-Neural-Networks-f6C6DwwC/lib/python3.8/site-packages/tensorflow/python/keras/engine/training.py:788 run_step  **\n        outputs = model.train_step(data)\n    /Users/jenniferquigley/.local/share/virtualenvs/DS-Unit-4-Sprint-2-Neural-Networks-f6C6DwwC/lib/python3.8/site-packages/tensorflow/python/keras/engine/training.py:755 train_step\n        loss = self.compiled_loss(\n    /Users/jenniferquigley/.local/share/virtualenvs/DS-Unit-4-Sprint-2-Neural-Networks-f6C6DwwC/lib/python3.8/site-packages/tensorflow/python/keras/engine/compile_utils.py:236 __call__\n        total_loss_metric_value = math_ops.add_n(loss_metric_values)\n    /Users/jenniferquigley/.local/share/virtualenvs/DS-Unit-4-Sprint-2-Neural-Networks-f6C6DwwC/lib/python3.8/site-packages/tensorflow/python/util/dispatch.py:201 wrapper\n        return target(*args, **kwargs)\n    /Users/jenniferquigley/.local/share/virtualenvs/DS-Unit-4-Sprint-2-Neural-Networks-f6C6DwwC/lib/python3.8/site-packages/tensorflow/python/ops/math_ops.py:3572 add_n\n        return gen_math_ops.add_n(inputs, name=name)\n    /Users/jenniferquigley/.local/share/virtualenvs/DS-Unit-4-Sprint-2-Neural-Networks-f6C6DwwC/lib/python3.8/site-packages/tensorflow/python/ops/gen_math_ops.py:418 add_n\n        _, _, _op, _outputs = _op_def_library._apply_op_helper(\n    /Users/jenniferquigley/.local/share/virtualenvs/DS-Unit-4-Sprint-2-Neural-Networks-f6C6DwwC/lib/python3.8/site-packages/tensorflow/python/framework/op_def_library.py:748 _apply_op_helper\n        op = g._create_op_internal(op_type_name, inputs, dtypes=None,\n    /Users/jenniferquigley/.local/share/virtualenvs/DS-Unit-4-Sprint-2-Neural-Networks-f6C6DwwC/lib/python3.8/site-packages/tensorflow/python/framework/func_graph.py:590 _create_op_internal\n        return super(FuncGraph, self)._create_op_internal(  # pylint: disable=protected-access\n    /Users/jenniferquigley/.local/share/virtualenvs/DS-Unit-4-Sprint-2-Neural-Networks-f6C6DwwC/lib/python3.8/site-packages/tensorflow/python/framework/ops.py:3528 _create_op_internal\n        ret = Operation(\n    /Users/jenniferquigley/.local/share/virtualenvs/DS-Unit-4-Sprint-2-Neural-Networks-f6C6DwwC/lib/python3.8/site-packages/tensorflow/python/framework/ops.py:2015 __init__\n        self._c_op = _create_c_op(self._graph, node_def, inputs,\n    /Users/jenniferquigley/.local/share/virtualenvs/DS-Unit-4-Sprint-2-Neural-Networks-f6C6DwwC/lib/python3.8/site-packages/tensorflow/python/framework/ops.py:1856 _create_c_op\n        raise ValueError(str(e))\n\n    ValueError: Shapes must be equal rank, but are 0 and 2\n    \tFrom merging shape 0 with other shapes. for '{{node AddN}} = AddN[N=2, T=DT_FLOAT](sparse_categorical_crossentropy/weighted_loss/value, dense_15/kernel/Regularizer/mul)' with input shapes: [], [32,10].\n",
     "output_type": "error",
     "traceback": [
      "\u001b[0;31m---------------------------------------------------------------------------\u001b[0m",
      "\u001b[0;31mValueError\u001b[0m                                Traceback (most recent call last)",
      "\u001b[0;32m<ipython-input-51-2e9b9f80f6bc>\u001b[0m in \u001b[0;36m<module>\u001b[0;34m\u001b[0m\n\u001b[1;32m      1\u001b[0m \u001b[0mmodel\u001b[0m \u001b[0;34m=\u001b[0m \u001b[0mKerasClassifier\u001b[0m\u001b[0;34m(\u001b[0m\u001b[0mbuild_fn\u001b[0m\u001b[0;34m=\u001b[0m\u001b[0mcreate_model\u001b[0m\u001b[0;34m)\u001b[0m\u001b[0;34m\u001b[0m\u001b[0;34m\u001b[0m\u001b[0m\n\u001b[1;32m      2\u001b[0m \u001b[0;34m\u001b[0m\u001b[0m\n\u001b[0;32m----> 3\u001b[0;31m model.fit(X_train, y_train, \n\u001b[0m\u001b[1;32m      4\u001b[0m           \u001b[0mepochs\u001b[0m\u001b[0;34m=\u001b[0m\u001b[0;36m100\u001b[0m\u001b[0;34m,\u001b[0m\u001b[0;34m\u001b[0m\u001b[0;34m\u001b[0m\u001b[0m\n\u001b[1;32m      5\u001b[0m           \u001b[0mvalidation_data\u001b[0m\u001b[0;34m=\u001b[0m\u001b[0;34m(\u001b[0m\u001b[0mX_test\u001b[0m\u001b[0;34m,\u001b[0m \u001b[0my_test\u001b[0m\u001b[0;34m)\u001b[0m\u001b[0;34m,\u001b[0m\u001b[0;34m\u001b[0m\u001b[0;34m\u001b[0m\u001b[0m\n",
      "\u001b[0;32m~/.local/share/virtualenvs/DS-Unit-4-Sprint-2-Neural-Networks-f6C6DwwC/lib/python3.8/site-packages/tensorflow/python/keras/wrappers/scikit_learn.py\u001b[0m in \u001b[0;36mfit\u001b[0;34m(self, x, y, **kwargs)\u001b[0m\n\u001b[1;32m    221\u001b[0m       \u001b[0;32mraise\u001b[0m \u001b[0mValueError\u001b[0m\u001b[0;34m(\u001b[0m\u001b[0;34m'Invalid shape for y: '\u001b[0m \u001b[0;34m+\u001b[0m \u001b[0mstr\u001b[0m\u001b[0;34m(\u001b[0m\u001b[0my\u001b[0m\u001b[0;34m.\u001b[0m\u001b[0mshape\u001b[0m\u001b[0;34m)\u001b[0m\u001b[0;34m)\u001b[0m\u001b[0;34m\u001b[0m\u001b[0;34m\u001b[0m\u001b[0m\n\u001b[1;32m    222\u001b[0m     \u001b[0mself\u001b[0m\u001b[0;34m.\u001b[0m\u001b[0mn_classes_\u001b[0m \u001b[0;34m=\u001b[0m \u001b[0mlen\u001b[0m\u001b[0;34m(\u001b[0m\u001b[0mself\u001b[0m\u001b[0;34m.\u001b[0m\u001b[0mclasses_\u001b[0m\u001b[0;34m)\u001b[0m\u001b[0;34m\u001b[0m\u001b[0;34m\u001b[0m\u001b[0m\n\u001b[0;32m--> 223\u001b[0;31m     \u001b[0;32mreturn\u001b[0m \u001b[0msuper\u001b[0m\u001b[0;34m(\u001b[0m\u001b[0mKerasClassifier\u001b[0m\u001b[0;34m,\u001b[0m \u001b[0mself\u001b[0m\u001b[0;34m)\u001b[0m\u001b[0;34m.\u001b[0m\u001b[0mfit\u001b[0m\u001b[0;34m(\u001b[0m\u001b[0mx\u001b[0m\u001b[0;34m,\u001b[0m \u001b[0my\u001b[0m\u001b[0;34m,\u001b[0m \u001b[0;34m**\u001b[0m\u001b[0mkwargs\u001b[0m\u001b[0;34m)\u001b[0m\u001b[0;34m\u001b[0m\u001b[0;34m\u001b[0m\u001b[0m\n\u001b[0m\u001b[1;32m    224\u001b[0m \u001b[0;34m\u001b[0m\u001b[0m\n\u001b[1;32m    225\u001b[0m   \u001b[0;32mdef\u001b[0m \u001b[0mpredict\u001b[0m\u001b[0;34m(\u001b[0m\u001b[0mself\u001b[0m\u001b[0;34m,\u001b[0m \u001b[0mx\u001b[0m\u001b[0;34m,\u001b[0m \u001b[0;34m**\u001b[0m\u001b[0mkwargs\u001b[0m\u001b[0;34m)\u001b[0m\u001b[0;34m:\u001b[0m\u001b[0;34m\u001b[0m\u001b[0;34m\u001b[0m\u001b[0m\n",
      "\u001b[0;32m~/.local/share/virtualenvs/DS-Unit-4-Sprint-2-Neural-Networks-f6C6DwwC/lib/python3.8/site-packages/tensorflow/python/keras/wrappers/scikit_learn.py\u001b[0m in \u001b[0;36mfit\u001b[0;34m(self, x, y, **kwargs)\u001b[0m\n\u001b[1;32m    164\u001b[0m     \u001b[0mfit_args\u001b[0m\u001b[0;34m.\u001b[0m\u001b[0mupdate\u001b[0m\u001b[0;34m(\u001b[0m\u001b[0mkwargs\u001b[0m\u001b[0;34m)\u001b[0m\u001b[0;34m\u001b[0m\u001b[0;34m\u001b[0m\u001b[0m\n\u001b[1;32m    165\u001b[0m \u001b[0;34m\u001b[0m\u001b[0m\n\u001b[0;32m--> 166\u001b[0;31m     \u001b[0mhistory\u001b[0m \u001b[0;34m=\u001b[0m \u001b[0mself\u001b[0m\u001b[0;34m.\u001b[0m\u001b[0mmodel\u001b[0m\u001b[0;34m.\u001b[0m\u001b[0mfit\u001b[0m\u001b[0;34m(\u001b[0m\u001b[0mx\u001b[0m\u001b[0;34m,\u001b[0m \u001b[0my\u001b[0m\u001b[0;34m,\u001b[0m \u001b[0;34m**\u001b[0m\u001b[0mfit_args\u001b[0m\u001b[0;34m)\u001b[0m\u001b[0;34m\u001b[0m\u001b[0;34m\u001b[0m\u001b[0m\n\u001b[0m\u001b[1;32m    167\u001b[0m \u001b[0;34m\u001b[0m\u001b[0m\n\u001b[1;32m    168\u001b[0m     \u001b[0;32mreturn\u001b[0m \u001b[0mhistory\u001b[0m\u001b[0;34m\u001b[0m\u001b[0;34m\u001b[0m\u001b[0m\n",
      "\u001b[0;32m~/.local/share/virtualenvs/DS-Unit-4-Sprint-2-Neural-Networks-f6C6DwwC/lib/python3.8/site-packages/tensorflow/python/keras/engine/training.py\u001b[0m in \u001b[0;36mfit\u001b[0;34m(self, x, y, batch_size, epochs, verbose, callbacks, validation_split, validation_data, shuffle, class_weight, sample_weight, initial_epoch, steps_per_epoch, validation_steps, validation_batch_size, validation_freq, max_queue_size, workers, use_multiprocessing)\u001b[0m\n\u001b[1;32m   1098\u001b[0m                 _r=1):\n\u001b[1;32m   1099\u001b[0m               \u001b[0mcallbacks\u001b[0m\u001b[0;34m.\u001b[0m\u001b[0mon_train_batch_begin\u001b[0m\u001b[0;34m(\u001b[0m\u001b[0mstep\u001b[0m\u001b[0;34m)\u001b[0m\u001b[0;34m\u001b[0m\u001b[0;34m\u001b[0m\u001b[0m\n\u001b[0;32m-> 1100\u001b[0;31m               \u001b[0mtmp_logs\u001b[0m \u001b[0;34m=\u001b[0m \u001b[0mself\u001b[0m\u001b[0;34m.\u001b[0m\u001b[0mtrain_function\u001b[0m\u001b[0;34m(\u001b[0m\u001b[0miterator\u001b[0m\u001b[0;34m)\u001b[0m\u001b[0;34m\u001b[0m\u001b[0;34m\u001b[0m\u001b[0m\n\u001b[0m\u001b[1;32m   1101\u001b[0m               \u001b[0;32mif\u001b[0m \u001b[0mdata_handler\u001b[0m\u001b[0;34m.\u001b[0m\u001b[0mshould_sync\u001b[0m\u001b[0;34m:\u001b[0m\u001b[0;34m\u001b[0m\u001b[0;34m\u001b[0m\u001b[0m\n\u001b[1;32m   1102\u001b[0m                 \u001b[0mcontext\u001b[0m\u001b[0;34m.\u001b[0m\u001b[0masync_wait\u001b[0m\u001b[0;34m(\u001b[0m\u001b[0;34m)\u001b[0m\u001b[0;34m\u001b[0m\u001b[0;34m\u001b[0m\u001b[0m\n",
      "\u001b[0;32m~/.local/share/virtualenvs/DS-Unit-4-Sprint-2-Neural-Networks-f6C6DwwC/lib/python3.8/site-packages/tensorflow/python/eager/def_function.py\u001b[0m in \u001b[0;36m__call__\u001b[0;34m(self, *args, **kwds)\u001b[0m\n\u001b[1;32m    826\u001b[0m     \u001b[0mtracing_count\u001b[0m \u001b[0;34m=\u001b[0m \u001b[0mself\u001b[0m\u001b[0;34m.\u001b[0m\u001b[0mexperimental_get_tracing_count\u001b[0m\u001b[0;34m(\u001b[0m\u001b[0;34m)\u001b[0m\u001b[0;34m\u001b[0m\u001b[0;34m\u001b[0m\u001b[0m\n\u001b[1;32m    827\u001b[0m     \u001b[0;32mwith\u001b[0m \u001b[0mtrace\u001b[0m\u001b[0;34m.\u001b[0m\u001b[0mTrace\u001b[0m\u001b[0;34m(\u001b[0m\u001b[0mself\u001b[0m\u001b[0;34m.\u001b[0m\u001b[0m_name\u001b[0m\u001b[0;34m)\u001b[0m \u001b[0;32mas\u001b[0m \u001b[0mtm\u001b[0m\u001b[0;34m:\u001b[0m\u001b[0;34m\u001b[0m\u001b[0;34m\u001b[0m\u001b[0m\n\u001b[0;32m--> 828\u001b[0;31m       \u001b[0mresult\u001b[0m \u001b[0;34m=\u001b[0m \u001b[0mself\u001b[0m\u001b[0;34m.\u001b[0m\u001b[0m_call\u001b[0m\u001b[0;34m(\u001b[0m\u001b[0;34m*\u001b[0m\u001b[0margs\u001b[0m\u001b[0;34m,\u001b[0m \u001b[0;34m**\u001b[0m\u001b[0mkwds\u001b[0m\u001b[0;34m)\u001b[0m\u001b[0;34m\u001b[0m\u001b[0;34m\u001b[0m\u001b[0m\n\u001b[0m\u001b[1;32m    829\u001b[0m       \u001b[0mcompiler\u001b[0m \u001b[0;34m=\u001b[0m \u001b[0;34m\"xla\"\u001b[0m \u001b[0;32mif\u001b[0m \u001b[0mself\u001b[0m\u001b[0;34m.\u001b[0m\u001b[0m_experimental_compile\u001b[0m \u001b[0;32melse\u001b[0m \u001b[0;34m\"nonXla\"\u001b[0m\u001b[0;34m\u001b[0m\u001b[0;34m\u001b[0m\u001b[0m\n\u001b[1;32m    830\u001b[0m       \u001b[0mnew_tracing_count\u001b[0m \u001b[0;34m=\u001b[0m \u001b[0mself\u001b[0m\u001b[0;34m.\u001b[0m\u001b[0mexperimental_get_tracing_count\u001b[0m\u001b[0;34m(\u001b[0m\u001b[0;34m)\u001b[0m\u001b[0;34m\u001b[0m\u001b[0;34m\u001b[0m\u001b[0m\n",
      "\u001b[0;32m~/.local/share/virtualenvs/DS-Unit-4-Sprint-2-Neural-Networks-f6C6DwwC/lib/python3.8/site-packages/tensorflow/python/eager/def_function.py\u001b[0m in \u001b[0;36m_call\u001b[0;34m(self, *args, **kwds)\u001b[0m\n\u001b[1;32m    869\u001b[0m       \u001b[0;31m# This is the first call of __call__, so we have to initialize.\u001b[0m\u001b[0;34m\u001b[0m\u001b[0;34m\u001b[0m\u001b[0;34m\u001b[0m\u001b[0m\n\u001b[1;32m    870\u001b[0m       \u001b[0minitializers\u001b[0m \u001b[0;34m=\u001b[0m \u001b[0;34m[\u001b[0m\u001b[0;34m]\u001b[0m\u001b[0;34m\u001b[0m\u001b[0;34m\u001b[0m\u001b[0m\n\u001b[0;32m--> 871\u001b[0;31m       \u001b[0mself\u001b[0m\u001b[0;34m.\u001b[0m\u001b[0m_initialize\u001b[0m\u001b[0;34m(\u001b[0m\u001b[0margs\u001b[0m\u001b[0;34m,\u001b[0m \u001b[0mkwds\u001b[0m\u001b[0;34m,\u001b[0m \u001b[0madd_initializers_to\u001b[0m\u001b[0;34m=\u001b[0m\u001b[0minitializers\u001b[0m\u001b[0;34m)\u001b[0m\u001b[0;34m\u001b[0m\u001b[0;34m\u001b[0m\u001b[0m\n\u001b[0m\u001b[1;32m    872\u001b[0m     \u001b[0;32mfinally\u001b[0m\u001b[0;34m:\u001b[0m\u001b[0;34m\u001b[0m\u001b[0;34m\u001b[0m\u001b[0m\n\u001b[1;32m    873\u001b[0m       \u001b[0;31m# At this point we know that the initialization is complete (or less\u001b[0m\u001b[0;34m\u001b[0m\u001b[0;34m\u001b[0m\u001b[0;34m\u001b[0m\u001b[0m\n",
      "\u001b[0;32m~/.local/share/virtualenvs/DS-Unit-4-Sprint-2-Neural-Networks-f6C6DwwC/lib/python3.8/site-packages/tensorflow/python/eager/def_function.py\u001b[0m in \u001b[0;36m_initialize\u001b[0;34m(self, args, kwds, add_initializers_to)\u001b[0m\n\u001b[1;32m    723\u001b[0m     \u001b[0mself\u001b[0m\u001b[0;34m.\u001b[0m\u001b[0m_graph_deleter\u001b[0m \u001b[0;34m=\u001b[0m \u001b[0mFunctionDeleter\u001b[0m\u001b[0;34m(\u001b[0m\u001b[0mself\u001b[0m\u001b[0;34m.\u001b[0m\u001b[0m_lifted_initializer_graph\u001b[0m\u001b[0;34m)\u001b[0m\u001b[0;34m\u001b[0m\u001b[0;34m\u001b[0m\u001b[0m\n\u001b[1;32m    724\u001b[0m     self._concrete_stateful_fn = (\n\u001b[0;32m--> 725\u001b[0;31m         self._stateful_fn._get_concrete_function_internal_garbage_collected(  # pylint: disable=protected-access\n\u001b[0m\u001b[1;32m    726\u001b[0m             *args, **kwds))\n\u001b[1;32m    727\u001b[0m \u001b[0;34m\u001b[0m\u001b[0m\n",
      "\u001b[0;32m~/.local/share/virtualenvs/DS-Unit-4-Sprint-2-Neural-Networks-f6C6DwwC/lib/python3.8/site-packages/tensorflow/python/eager/function.py\u001b[0m in \u001b[0;36m_get_concrete_function_internal_garbage_collected\u001b[0;34m(self, *args, **kwargs)\u001b[0m\n\u001b[1;32m   2967\u001b[0m       \u001b[0margs\u001b[0m\u001b[0;34m,\u001b[0m \u001b[0mkwargs\u001b[0m \u001b[0;34m=\u001b[0m \u001b[0;32mNone\u001b[0m\u001b[0;34m,\u001b[0m \u001b[0;32mNone\u001b[0m\u001b[0;34m\u001b[0m\u001b[0;34m\u001b[0m\u001b[0m\n\u001b[1;32m   2968\u001b[0m     \u001b[0;32mwith\u001b[0m \u001b[0mself\u001b[0m\u001b[0;34m.\u001b[0m\u001b[0m_lock\u001b[0m\u001b[0;34m:\u001b[0m\u001b[0;34m\u001b[0m\u001b[0;34m\u001b[0m\u001b[0m\n\u001b[0;32m-> 2969\u001b[0;31m       \u001b[0mgraph_function\u001b[0m\u001b[0;34m,\u001b[0m \u001b[0m_\u001b[0m \u001b[0;34m=\u001b[0m \u001b[0mself\u001b[0m\u001b[0;34m.\u001b[0m\u001b[0m_maybe_define_function\u001b[0m\u001b[0;34m(\u001b[0m\u001b[0margs\u001b[0m\u001b[0;34m,\u001b[0m \u001b[0mkwargs\u001b[0m\u001b[0;34m)\u001b[0m\u001b[0;34m\u001b[0m\u001b[0;34m\u001b[0m\u001b[0m\n\u001b[0m\u001b[1;32m   2970\u001b[0m     \u001b[0;32mreturn\u001b[0m \u001b[0mgraph_function\u001b[0m\u001b[0;34m\u001b[0m\u001b[0;34m\u001b[0m\u001b[0m\n\u001b[1;32m   2971\u001b[0m \u001b[0;34m\u001b[0m\u001b[0m\n",
      "\u001b[0;32m~/.local/share/virtualenvs/DS-Unit-4-Sprint-2-Neural-Networks-f6C6DwwC/lib/python3.8/site-packages/tensorflow/python/eager/function.py\u001b[0m in \u001b[0;36m_maybe_define_function\u001b[0;34m(self, args, kwargs)\u001b[0m\n\u001b[1;32m   3359\u001b[0m \u001b[0;34m\u001b[0m\u001b[0m\n\u001b[1;32m   3360\u001b[0m           \u001b[0mself\u001b[0m\u001b[0;34m.\u001b[0m\u001b[0m_function_cache\u001b[0m\u001b[0;34m.\u001b[0m\u001b[0mmissed\u001b[0m\u001b[0;34m.\u001b[0m\u001b[0madd\u001b[0m\u001b[0;34m(\u001b[0m\u001b[0mcall_context_key\u001b[0m\u001b[0;34m)\u001b[0m\u001b[0;34m\u001b[0m\u001b[0;34m\u001b[0m\u001b[0m\n\u001b[0;32m-> 3361\u001b[0;31m           \u001b[0mgraph_function\u001b[0m \u001b[0;34m=\u001b[0m \u001b[0mself\u001b[0m\u001b[0;34m.\u001b[0m\u001b[0m_create_graph_function\u001b[0m\u001b[0;34m(\u001b[0m\u001b[0margs\u001b[0m\u001b[0;34m,\u001b[0m \u001b[0mkwargs\u001b[0m\u001b[0;34m)\u001b[0m\u001b[0;34m\u001b[0m\u001b[0;34m\u001b[0m\u001b[0m\n\u001b[0m\u001b[1;32m   3362\u001b[0m           \u001b[0mself\u001b[0m\u001b[0;34m.\u001b[0m\u001b[0m_function_cache\u001b[0m\u001b[0;34m.\u001b[0m\u001b[0mprimary\u001b[0m\u001b[0;34m[\u001b[0m\u001b[0mcache_key\u001b[0m\u001b[0;34m]\u001b[0m \u001b[0;34m=\u001b[0m \u001b[0mgraph_function\u001b[0m\u001b[0;34m\u001b[0m\u001b[0;34m\u001b[0m\u001b[0m\n\u001b[1;32m   3363\u001b[0m \u001b[0;34m\u001b[0m\u001b[0m\n",
      "\u001b[0;32m~/.local/share/virtualenvs/DS-Unit-4-Sprint-2-Neural-Networks-f6C6DwwC/lib/python3.8/site-packages/tensorflow/python/eager/function.py\u001b[0m in \u001b[0;36m_create_graph_function\u001b[0;34m(self, args, kwargs, override_flat_arg_shapes)\u001b[0m\n\u001b[1;32m   3194\u001b[0m     \u001b[0marg_names\u001b[0m \u001b[0;34m=\u001b[0m \u001b[0mbase_arg_names\u001b[0m \u001b[0;34m+\u001b[0m \u001b[0mmissing_arg_names\u001b[0m\u001b[0;34m\u001b[0m\u001b[0;34m\u001b[0m\u001b[0m\n\u001b[1;32m   3195\u001b[0m     graph_function = ConcreteFunction(\n\u001b[0;32m-> 3196\u001b[0;31m         func_graph_module.func_graph_from_py_func(\n\u001b[0m\u001b[1;32m   3197\u001b[0m             \u001b[0mself\u001b[0m\u001b[0;34m.\u001b[0m\u001b[0m_name\u001b[0m\u001b[0;34m,\u001b[0m\u001b[0;34m\u001b[0m\u001b[0;34m\u001b[0m\u001b[0m\n\u001b[1;32m   3198\u001b[0m             \u001b[0mself\u001b[0m\u001b[0;34m.\u001b[0m\u001b[0m_python_function\u001b[0m\u001b[0;34m,\u001b[0m\u001b[0;34m\u001b[0m\u001b[0;34m\u001b[0m\u001b[0m\n",
      "\u001b[0;32m~/.local/share/virtualenvs/DS-Unit-4-Sprint-2-Neural-Networks-f6C6DwwC/lib/python3.8/site-packages/tensorflow/python/framework/func_graph.py\u001b[0m in \u001b[0;36mfunc_graph_from_py_func\u001b[0;34m(name, python_func, args, kwargs, signature, func_graph, autograph, autograph_options, add_control_dependencies, arg_names, op_return_value, collections, capture_by_value, override_flat_arg_shapes)\u001b[0m\n\u001b[1;32m    988\u001b[0m         \u001b[0m_\u001b[0m\u001b[0;34m,\u001b[0m \u001b[0moriginal_func\u001b[0m \u001b[0;34m=\u001b[0m \u001b[0mtf_decorator\u001b[0m\u001b[0;34m.\u001b[0m\u001b[0munwrap\u001b[0m\u001b[0;34m(\u001b[0m\u001b[0mpython_func\u001b[0m\u001b[0;34m)\u001b[0m\u001b[0;34m\u001b[0m\u001b[0;34m\u001b[0m\u001b[0m\n\u001b[1;32m    989\u001b[0m \u001b[0;34m\u001b[0m\u001b[0m\n\u001b[0;32m--> 990\u001b[0;31m       \u001b[0mfunc_outputs\u001b[0m \u001b[0;34m=\u001b[0m \u001b[0mpython_func\u001b[0m\u001b[0;34m(\u001b[0m\u001b[0;34m*\u001b[0m\u001b[0mfunc_args\u001b[0m\u001b[0;34m,\u001b[0m \u001b[0;34m**\u001b[0m\u001b[0mfunc_kwargs\u001b[0m\u001b[0;34m)\u001b[0m\u001b[0;34m\u001b[0m\u001b[0;34m\u001b[0m\u001b[0m\n\u001b[0m\u001b[1;32m    991\u001b[0m \u001b[0;34m\u001b[0m\u001b[0m\n\u001b[1;32m    992\u001b[0m       \u001b[0;31m# invariant: `func_outputs` contains only Tensors, CompositeTensors,\u001b[0m\u001b[0;34m\u001b[0m\u001b[0;34m\u001b[0m\u001b[0;34m\u001b[0m\u001b[0m\n",
      "\u001b[0;32m~/.local/share/virtualenvs/DS-Unit-4-Sprint-2-Neural-Networks-f6C6DwwC/lib/python3.8/site-packages/tensorflow/python/eager/def_function.py\u001b[0m in \u001b[0;36mwrapped_fn\u001b[0;34m(*args, **kwds)\u001b[0m\n\u001b[1;32m    632\u001b[0m             \u001b[0mxla_context\u001b[0m\u001b[0;34m.\u001b[0m\u001b[0mExit\u001b[0m\u001b[0;34m(\u001b[0m\u001b[0;34m)\u001b[0m\u001b[0;34m\u001b[0m\u001b[0;34m\u001b[0m\u001b[0m\n\u001b[1;32m    633\u001b[0m         \u001b[0;32melse\u001b[0m\u001b[0;34m:\u001b[0m\u001b[0;34m\u001b[0m\u001b[0;34m\u001b[0m\u001b[0m\n\u001b[0;32m--> 634\u001b[0;31m           \u001b[0mout\u001b[0m \u001b[0;34m=\u001b[0m \u001b[0mweak_wrapped_fn\u001b[0m\u001b[0;34m(\u001b[0m\u001b[0;34m)\u001b[0m\u001b[0;34m.\u001b[0m\u001b[0m__wrapped__\u001b[0m\u001b[0;34m(\u001b[0m\u001b[0;34m*\u001b[0m\u001b[0margs\u001b[0m\u001b[0;34m,\u001b[0m \u001b[0;34m**\u001b[0m\u001b[0mkwds\u001b[0m\u001b[0;34m)\u001b[0m\u001b[0;34m\u001b[0m\u001b[0;34m\u001b[0m\u001b[0m\n\u001b[0m\u001b[1;32m    635\u001b[0m         \u001b[0;32mreturn\u001b[0m \u001b[0mout\u001b[0m\u001b[0;34m\u001b[0m\u001b[0;34m\u001b[0m\u001b[0m\n\u001b[1;32m    636\u001b[0m \u001b[0;34m\u001b[0m\u001b[0m\n",
      "\u001b[0;32m~/.local/share/virtualenvs/DS-Unit-4-Sprint-2-Neural-Networks-f6C6DwwC/lib/python3.8/site-packages/tensorflow/python/framework/func_graph.py\u001b[0m in \u001b[0;36mwrapper\u001b[0;34m(*args, **kwargs)\u001b[0m\n\u001b[1;32m    975\u001b[0m           \u001b[0;32mexcept\u001b[0m \u001b[0mException\u001b[0m \u001b[0;32mas\u001b[0m \u001b[0me\u001b[0m\u001b[0;34m:\u001b[0m  \u001b[0;31m# pylint:disable=broad-except\u001b[0m\u001b[0;34m\u001b[0m\u001b[0;34m\u001b[0m\u001b[0m\n\u001b[1;32m    976\u001b[0m             \u001b[0;32mif\u001b[0m \u001b[0mhasattr\u001b[0m\u001b[0;34m(\u001b[0m\u001b[0me\u001b[0m\u001b[0;34m,\u001b[0m \u001b[0;34m\"ag_error_metadata\"\u001b[0m\u001b[0;34m)\u001b[0m\u001b[0;34m:\u001b[0m\u001b[0;34m\u001b[0m\u001b[0;34m\u001b[0m\u001b[0m\n\u001b[0;32m--> 977\u001b[0;31m               \u001b[0;32mraise\u001b[0m \u001b[0me\u001b[0m\u001b[0;34m.\u001b[0m\u001b[0mag_error_metadata\u001b[0m\u001b[0;34m.\u001b[0m\u001b[0mto_exception\u001b[0m\u001b[0;34m(\u001b[0m\u001b[0me\u001b[0m\u001b[0;34m)\u001b[0m\u001b[0;34m\u001b[0m\u001b[0;34m\u001b[0m\u001b[0m\n\u001b[0m\u001b[1;32m    978\u001b[0m             \u001b[0;32melse\u001b[0m\u001b[0;34m:\u001b[0m\u001b[0;34m\u001b[0m\u001b[0;34m\u001b[0m\u001b[0m\n\u001b[1;32m    979\u001b[0m               \u001b[0;32mraise\u001b[0m\u001b[0;34m\u001b[0m\u001b[0;34m\u001b[0m\u001b[0m\n",
      "\u001b[0;31mValueError\u001b[0m: in user code:\n\n    /Users/jenniferquigley/.local/share/virtualenvs/DS-Unit-4-Sprint-2-Neural-Networks-f6C6DwwC/lib/python3.8/site-packages/tensorflow/python/keras/engine/training.py:805 train_function  *\n        return step_function(self, iterator)\n    /Users/jenniferquigley/.local/share/virtualenvs/DS-Unit-4-Sprint-2-Neural-Networks-f6C6DwwC/lib/python3.8/site-packages/tensorflow/python/keras/engine/training.py:795 step_function  **\n        outputs = model.distribute_strategy.run(run_step, args=(data,))\n    /Users/jenniferquigley/.local/share/virtualenvs/DS-Unit-4-Sprint-2-Neural-Networks-f6C6DwwC/lib/python3.8/site-packages/tensorflow/python/distribute/distribute_lib.py:1259 run\n        return self._extended.call_for_each_replica(fn, args=args, kwargs=kwargs)\n    /Users/jenniferquigley/.local/share/virtualenvs/DS-Unit-4-Sprint-2-Neural-Networks-f6C6DwwC/lib/python3.8/site-packages/tensorflow/python/distribute/distribute_lib.py:2730 call_for_each_replica\n        return self._call_for_each_replica(fn, args, kwargs)\n    /Users/jenniferquigley/.local/share/virtualenvs/DS-Unit-4-Sprint-2-Neural-Networks-f6C6DwwC/lib/python3.8/site-packages/tensorflow/python/distribute/distribute_lib.py:3417 _call_for_each_replica\n        return fn(*args, **kwargs)\n    /Users/jenniferquigley/.local/share/virtualenvs/DS-Unit-4-Sprint-2-Neural-Networks-f6C6DwwC/lib/python3.8/site-packages/tensorflow/python/keras/engine/training.py:788 run_step  **\n        outputs = model.train_step(data)\n    /Users/jenniferquigley/.local/share/virtualenvs/DS-Unit-4-Sprint-2-Neural-Networks-f6C6DwwC/lib/python3.8/site-packages/tensorflow/python/keras/engine/training.py:755 train_step\n        loss = self.compiled_loss(\n    /Users/jenniferquigley/.local/share/virtualenvs/DS-Unit-4-Sprint-2-Neural-Networks-f6C6DwwC/lib/python3.8/site-packages/tensorflow/python/keras/engine/compile_utils.py:236 __call__\n        total_loss_metric_value = math_ops.add_n(loss_metric_values)\n    /Users/jenniferquigley/.local/share/virtualenvs/DS-Unit-4-Sprint-2-Neural-Networks-f6C6DwwC/lib/python3.8/site-packages/tensorflow/python/util/dispatch.py:201 wrapper\n        return target(*args, **kwargs)\n    /Users/jenniferquigley/.local/share/virtualenvs/DS-Unit-4-Sprint-2-Neural-Networks-f6C6DwwC/lib/python3.8/site-packages/tensorflow/python/ops/math_ops.py:3572 add_n\n        return gen_math_ops.add_n(inputs, name=name)\n    /Users/jenniferquigley/.local/share/virtualenvs/DS-Unit-4-Sprint-2-Neural-Networks-f6C6DwwC/lib/python3.8/site-packages/tensorflow/python/ops/gen_math_ops.py:418 add_n\n        _, _, _op, _outputs = _op_def_library._apply_op_helper(\n    /Users/jenniferquigley/.local/share/virtualenvs/DS-Unit-4-Sprint-2-Neural-Networks-f6C6DwwC/lib/python3.8/site-packages/tensorflow/python/framework/op_def_library.py:748 _apply_op_helper\n        op = g._create_op_internal(op_type_name, inputs, dtypes=None,\n    /Users/jenniferquigley/.local/share/virtualenvs/DS-Unit-4-Sprint-2-Neural-Networks-f6C6DwwC/lib/python3.8/site-packages/tensorflow/python/framework/func_graph.py:590 _create_op_internal\n        return super(FuncGraph, self)._create_op_internal(  # pylint: disable=protected-access\n    /Users/jenniferquigley/.local/share/virtualenvs/DS-Unit-4-Sprint-2-Neural-Networks-f6C6DwwC/lib/python3.8/site-packages/tensorflow/python/framework/ops.py:3528 _create_op_internal\n        ret = Operation(\n    /Users/jenniferquigley/.local/share/virtualenvs/DS-Unit-4-Sprint-2-Neural-Networks-f6C6DwwC/lib/python3.8/site-packages/tensorflow/python/framework/ops.py:2015 __init__\n        self._c_op = _create_c_op(self._graph, node_def, inputs,\n    /Users/jenniferquigley/.local/share/virtualenvs/DS-Unit-4-Sprint-2-Neural-Networks-f6C6DwwC/lib/python3.8/site-packages/tensorflow/python/framework/ops.py:1856 _create_c_op\n        raise ValueError(str(e))\n\n    ValueError: Shapes must be equal rank, but are 0 and 2\n    \tFrom merging shape 0 with other shapes. for '{{node AddN}} = AddN[N=2, T=DT_FLOAT](sparse_categorical_crossentropy/weighted_loss/value, dense_15/kernel/Regularizer/mul)' with input shapes: [], [32,10].\n"
     ]
    }
   ],
   "source": [
    "model = KerasClassifier(build_fn=create_model)\n",
    "\n",
    "logdir = os.path.join(\"logs\", \n",
    "                      \"EarlyStopping+L1_WeightConstraint\")\n",
    "\n",
    "tensorboard_callback = tf.keras.callbacks.TensorBoard(logdir)\n",
    "\n",
    "model.fit(X_train, y_train, \n",
    "          epochs=100, \n",
    "          validation_data=(X_test, y_test), \n",
    "          callbacks=[tensorboard_callback, stop])"
   ]
  },
  {
   "cell_type": "markdown",
   "metadata": {
    "colab_type": "text",
    "id": "pScpa3nRRxCN"
   },
   "source": [
    "## Deploy\n",
    "\n",
    "Save your model's weights using the Checkpoint function. Try reloading the model and making inference on your validation dataset."
   ]
  },
  {
   "cell_type": "code",
   "execution_count": 55,
   "metadata": {
    "colab": {},
    "colab_type": "code",
    "id": "3cqpHQt_SIbW"
   },
   "outputs": [
    {
     "name": "stdout",
     "output_type": "stream",
     "text": [
      "Epoch 1/5\n",
      "2094/2094 [==============================] - 2s 1ms/step - loss: 1.1565 - accuracy: 0.6778\n",
      "Epoch 2/5\n",
      "2094/2094 [==============================] - 2s 1ms/step - loss: 0.7755 - accuracy: 0.7938\n",
      "Epoch 3/5\n",
      "2094/2094 [==============================] - 2s 1ms/step - loss: 0.6943 - accuracy: 0.8160\n",
      "Epoch 4/5\n",
      "2094/2094 [==============================] - 2s 1ms/step - loss: 0.6521 - accuracy: 0.8265\n",
      "Epoch 5/5\n",
      "2094/2094 [==============================] - 2s 973us/step - loss: 0.6255 - accuracy: 0.8306\n",
      "INFO:tensorflow:Assets written to: saved_model/my_model/assets\n"
     ]
    }
   ],
   "source": [
    "model = create_model()\n",
    "model.fit(X_train,y_train, epochs=5)\n",
    "\n",
    "\n",
    "!mkdir -p saved_model\n",
    "model.save('saved_model/my_model') "
   ]
  },
  {
   "cell_type": "code",
   "execution_count": 56,
   "metadata": {},
   "outputs": [
    {
     "name": "stdout",
     "output_type": "stream",
     "text": [
      "Model: \"sequential_10\"\n",
      "_________________________________________________________________\n",
      "Layer (type)                 Output Shape              Param #   \n",
      "=================================================================\n",
      "dense_18 (Dense)             (None, 32)                25120     \n",
      "_________________________________________________________________\n",
      "dense_19 (Dense)             (None, 10)                330       \n",
      "=================================================================\n",
      "Total params: 25,450\n",
      "Trainable params: 25,450\n",
      "Non-trainable params: 0\n",
      "_________________________________________________________________\n"
     ]
    }
   ],
   "source": [
    "new_model = tf.keras.models.load_model('saved_model/my_model')\n",
    "\n",
    "# Check its architecture\n",
    "new_model.summary()"
   ]
  },
  {
   "cell_type": "code",
   "execution_count": 57,
   "metadata": {},
   "outputs": [
    {
     "name": "stdout",
     "output_type": "stream",
     "text": [
      "1032/1032 [==============================] - 1s 689us/step - loss: 0.6368 - accuracy: 0.8282\n"
     ]
    },
    {
     "data": {
      "text/plain": [
       "[0.636752724647522, 0.828151524066925]"
      ]
     },
     "execution_count": 57,
     "metadata": {},
     "output_type": "execute_result"
    }
   ],
   "source": [
    "new_model.evaluate(X_test, y_test)"
   ]
  },
  {
   "cell_type": "markdown",
   "metadata": {
    "colab_type": "text",
    "id": "LKbr1gRg9BXs"
   },
   "source": [
    "### Stretch Goals\n",
    "- Mount your Google Drive to Colab to persist your model checkpoint files. \n",
    "- Research L2 normalization (weight decay)\n",
    "- Write a custom callback function to stop training after you reach .88 validation accuracy. \n",
    "- Select a new dataset and apply a neural network to it.\n",
    "- Research TensorFlow Serving\n",
    "- Play [QuickDraw](https://quickdraw.withgoogle.com/data)\n",
    "- Create a static webpage using TensorFlow.js to serve a model. Check out [Teachable Machine Learning](https://teachablemachine.withgoogle.com/) for ideas. "
   ]
  }
 ],
 "metadata": {
  "colab": {
   "collapsed_sections": [],
   "name": "LS_DS_434_Deploy_Assignment.ipynb",
   "provenance": []
  },
  "kernelspec": {
   "display_name": "Python 3",
   "language": "python",
   "name": "python3"
  },
  "language_info": {
   "codemirror_mode": {
    "name": "ipython",
    "version": 3
   },
   "file_extension": ".py",
   "mimetype": "text/x-python",
   "name": "python",
   "nbconvert_exporter": "python",
   "pygments_lexer": "ipython3",
   "version": "3.8.7"
  },
  "nteract": {
   "version": "0.22.4"
  }
 },
 "nbformat": 4,
 "nbformat_minor": 1
}
