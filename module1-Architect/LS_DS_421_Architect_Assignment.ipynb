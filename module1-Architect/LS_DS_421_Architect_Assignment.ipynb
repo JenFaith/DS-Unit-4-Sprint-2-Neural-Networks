{
 "cells": [
  {
   "cell_type": "markdown",
   "metadata": {
    "colab_type": "text",
    "id": "ObyHCH8HvHSf"
   },
   "source": [
    "<img align=\"left\" src=\"https://lever-client-logos.s3.amazonaws.com/864372b1-534c-480e-acd5-9711f850815c-1524247202159.png\" width=200>\n",
    "<br></br>\n",
    "<br></br>\n",
    "\n",
    "# *Data Science Unit 4 Sprint 2 Assignment 1*\n",
    "\n",
    "Use TensorFlow Keras & a sample of the [Quickdraw dataset](https://github.com/googlecreativelab/quickdraw-dataset) to build a sketch classification model. The dataset has been sampled to only 10 classes and 10000 observations per class. Please build a baseline classification model then run a few experiments with different optimizers and learning rates. \n",
    "\n",
    "*Don't forgot to switch to GPU on Colab!*"
   ]
  },
  {
   "cell_type": "markdown",
   "metadata": {
    "colab_type": "text",
    "id": "s-Tc3ovEyQ9b"
   },
   "source": [
    "## Load Your Data"
   ]
  },
  {
   "cell_type": "code",
   "execution_count": 6,
   "metadata": {
    "colab": {},
    "colab_type": "code",
    "id": "CkU0pAYCvU8o"
   },
   "outputs": [
    {
     "name": "stdout",
     "output_type": "stream",
     "text": [
      "(100000, 784)\n",
      "(100000,)\n"
     ]
    }
   ],
   "source": [
    "import numpy as np\n",
    "import tensorflow as tf \n",
    "\n",
    "data = np.load('quickdraw10.npz')\n",
    "X = data['arr_0']\n",
    "y = data['arr_1']\n",
    "\n",
    "print(X.shape)\n",
    "print(y.shape)"
   ]
  },
  {
   "cell_type": "code",
   "execution_count": 7,
   "metadata": {},
   "outputs": [
    {
     "data": {
      "text/plain": [
       "['arr_0', 'arr_1']"
      ]
     },
     "execution_count": 7,
     "metadata": {},
     "output_type": "execute_result"
    }
   ],
   "source": [
    "data.files"
   ]
  },
  {
   "cell_type": "code",
   "execution_count": 8,
   "metadata": {
    "colab": {},
    "colab_type": "code",
    "id": "c8qsDqdqvHDd"
   },
   "outputs": [],
   "source": [
    "class_names = ['apple',\n",
    " 'anvil',\n",
    " 'airplane',\n",
    " 'banana',\n",
    " 'The Eiffel Tower',\n",
    " 'The Mona Lisa',\n",
    " 'The Great Wall of China',\n",
    " 'alarm clock',\n",
    " 'ant',\n",
    " 'asparagus']"
   ]
  },
  {
   "cell_type": "code",
   "execution_count": 9,
   "metadata": {
    "colab": {},
    "colab_type": "code",
    "id": "Owbm1EbxvA5A",
    "scrolled": true
   },
   "outputs": [
    {
     "data": {
      "image/png": "[encoded data removed]",
      "text/plain": [
       "<Figure size 720x360 with 10 Axes>"
      ]
     },
     "metadata": {},
     "output_type": "display_data"
    }
   ],
   "source": [
    "import matplotlib.pyplot as plt\n",
    "plt.figure(figsize=(10,5))\n",
    "start = 0\n",
    "\n",
    "for num, name in enumerate(class_names):\n",
    "    plt.subplot(2,5, num+1)\n",
    "    plt.xticks([])\n",
    "    plt.yticks([])\n",
    "    plt.grid(False)\n",
    "    plt.imshow(X[start].reshape(28,28), cmap=plt.cm.binary)\n",
    "    plt.xlabel(name)\n",
    "    start += 10000\n",
    "plt.show()"
   ]
  },
  {
   "cell_type": "code",
   "execution_count": 10,
   "metadata": {},
   "outputs": [
    {
     "data": {
      "text/plain": [
       "(100000, 784)"
      ]
     },
     "execution_count": 10,
     "metadata": {},
     "output_type": "execute_result"
    }
   ],
   "source": [
    "X.shape"
   ]
  },
  {
   "cell_type": "code",
   "execution_count": 11,
   "metadata": {
    "scrolled": true
   },
   "outputs": [
    {
     "data": {
      "text/plain": [
       "(100000,)"
      ]
     },
     "execution_count": 11,
     "metadata": {},
     "output_type": "execute_result"
    }
   ],
   "source": [
    "y.shape"
   ]
  },
  {
   "cell_type": "code",
   "execution_count": 12,
   "metadata": {},
   "outputs": [
    {
     "data": {
      "text/plain": [
       "255"
      ]
     },
     "execution_count": 12,
     "metadata": {},
     "output_type": "execute_result"
    }
   ],
   "source": [
    "X.max()"
   ]
  },
  {
   "cell_type": "code",
   "execution_count": 13,
   "metadata": {},
   "outputs": [],
   "source": [
    "# Normalize X Data\n",
    "\n",
    "X = X.astype('float')/255"
   ]
  },
  {
   "cell_type": "code",
   "execution_count": 14,
   "metadata": {},
   "outputs": [
    {
     "data": {
      "text/plain": [
       "1.0"
      ]
     },
     "execution_count": 14,
     "metadata": {},
     "output_type": "execute_result"
    }
   ],
   "source": [
    "X.max()"
   ]
  },
  {
   "cell_type": "code",
   "execution_count": 15,
   "metadata": {},
   "outputs": [
    {
     "data": {
      "text/plain": [
       "(100000, 784)"
      ]
     },
     "execution_count": 15,
     "metadata": {},
     "output_type": "execute_result"
    }
   ],
   "source": [
    "X.shape"
   ]
  },
  {
   "cell_type": "code",
   "execution_count": 16,
   "metadata": {},
   "outputs": [
    {
     "data": {
      "text/plain": [
       "['apple',\n",
       " 'anvil',\n",
       " 'airplane',\n",
       " 'banana',\n",
       " 'The Eiffel Tower',\n",
       " 'The Mona Lisa',\n",
       " 'The Great Wall of China',\n",
       " 'alarm clock',\n",
       " 'ant',\n",
       " 'asparagus']"
      ]
     },
     "execution_count": 16,
     "metadata": {},
     "output_type": "execute_result"
    }
   ],
   "source": [
    "class_names"
   ]
  },
  {
   "cell_type": "code",
   "execution_count": 17,
   "metadata": {
    "colab": {},
    "colab_type": "code",
    "id": "c97_M1WNvTNY"
   },
   "outputs": [],
   "source": [
    "# Need this line to randomly shuffle both the X & y at the same time.\n",
    "\n",
    "from sklearn.utils import shuffle\n",
    "X, y = shuffle(X, y)"
   ]
  },
  {
   "cell_type": "code",
   "execution_count": 18,
   "metadata": {},
   "outputs": [
    {
     "data": {
      "text/plain": [
       "1.0"
      ]
     },
     "execution_count": 18,
     "metadata": {},
     "output_type": "execute_result"
    }
   ],
   "source": [
    "X.max()"
   ]
  },
  {
   "cell_type": "markdown",
   "metadata": {
    "colab_type": "text",
    "id": "jb70CbLVyK65"
   },
   "source": [
    "## Build Your Baseline Model\n",
    "Some Hints:\n",
    "\n",
    "\n",
    "*  Model should have 784 input values (like mnist)\n",
    "*  Use `sparse_categorical_crossentropy` as your loss function.\n",
    "* You need 10 neurons in your last layer for output\n",
    "* You can add as many hidden layers with as many neurons in them as you like. \n",
    "* Limit your model epochs to 30 each time you fit.\n",
    "* You can use the `validation_split` command to automatically create a training / validation dataset.  Specify a percentage such as .2 in your fit statement. \n",
    "\n"
   ]
  },
  {
   "cell_type": "markdown",
   "metadata": {},
   "source": [
    "## The Process\n",
    "\n",
    "- Load Data\n",
    "- Define Model\n",
    "- Compile Model\n",
    "- Fit Model\n",
    "- Evaluate Model"
   ]
  },
  {
   "cell_type": "code",
   "execution_count": 19,
   "metadata": {},
   "outputs": [],
   "source": [
    "from sklearn.model_selection import train_test_split\n",
    "\n",
    "X_train, X_test, y_train, y_test = train_test_split(X, y, test_size = 0.33, random_state = 42)"
   ]
  },
  {
   "cell_type": "code",
   "execution_count": 20,
   "metadata": {},
   "outputs": [
    {
     "data": {
      "text/plain": [
       "(67000, 784)"
      ]
     },
     "execution_count": 20,
     "metadata": {},
     "output_type": "execute_result"
    }
   ],
   "source": [
    "X_train.shape"
   ]
  },
  {
   "cell_type": "code",
   "execution_count": 21,
   "metadata": {
    "colab": {},
    "colab_type": "code",
    "id": "zHWblzsMyNkU"
   },
   "outputs": [],
   "source": [
    "import tensorflow as tf\n"
   ]
  },
  {
   "cell_type": "code",
   "execution_count": 22,
   "metadata": {},
   "outputs": [],
   "source": [
    "from tensorflow.keras.models import Sequential\n",
    "from tensorflow.keras.layers import Dense"
   ]
  },
  {
   "cell_type": "code",
   "execution_count": 44,
   "metadata": {},
   "outputs": [
    {
     "name": "stdout",
     "output_type": "stream",
     "text": [
      "Epoch 1/30\n",
      "2094/2094 [==============================] - 3s 2ms/step - loss: 1.4590 - accuracy: 0.5417 - val_loss: 0.9949 - val_accuracy: 0.7104\n",
      "Epoch 2/30\n",
      "2094/2094 [==============================] - 3s 1ms/step - loss: 0.9854 - accuracy: 0.7153 - val_loss: 0.9366 - val_accuracy: 0.7296\n",
      "Epoch 3/30\n",
      "2094/2094 [==============================] - 3s 1ms/step - loss: 0.9305 - accuracy: 0.7322 - val_loss: 0.9124 - val_accuracy: 0.7360\n",
      "Epoch 4/30\n",
      "2094/2094 [==============================] - 3s 1ms/step - loss: 0.9031 - accuracy: 0.7414 - val_loss: 0.8962 - val_accuracy: 0.7432\n",
      "Epoch 5/30\n",
      "2094/2094 [==============================] - 3s 1ms/step - loss: 0.8963 - accuracy: 0.7429 - val_loss: 0.8845 - val_accuracy: 0.7480\n",
      "Epoch 6/30\n",
      "2094/2094 [==============================] - 3s 1ms/step - loss: 0.8916 - accuracy: 0.7459 - val_loss: 0.8773 - val_accuracy: 0.7484\n",
      "Epoch 7/30\n",
      "2094/2094 [==============================] - 3s 1ms/step - loss: 0.8797 - accuracy: 0.7486 - val_loss: 0.8726 - val_accuracy: 0.7526\n",
      "Epoch 8/30\n",
      "2094/2094 [==============================] - 3s 1ms/step - loss: 0.8754 - accuracy: 0.7509 - val_loss: 0.8662 - val_accuracy: 0.7541\n",
      "Epoch 9/30\n",
      "2094/2094 [==============================] - 3s 1ms/step - loss: 0.8648 - accuracy: 0.7526 - val_loss: 0.8626 - val_accuracy: 0.7546\n",
      "Epoch 10/30\n",
      "2094/2094 [==============================] - 3s 1ms/step - loss: 0.8673 - accuracy: 0.7555 - val_loss: 0.8581 - val_accuracy: 0.7569\n",
      "Epoch 11/30\n",
      "2094/2094 [==============================] - 3s 1ms/step - loss: 0.8542 - accuracy: 0.7558 - val_loss: 0.8542 - val_accuracy: 0.7571\n",
      "Epoch 12/30\n",
      "2094/2094 [==============================] - 3s 1ms/step - loss: 0.8615 - accuracy: 0.7555 - val_loss: 0.8504 - val_accuracy: 0.7589\n",
      "Epoch 13/30\n",
      "2094/2094 [==============================] - 3s 1ms/step - loss: 0.8462 - accuracy: 0.7585 - val_loss: 0.8486 - val_accuracy: 0.7582\n",
      "Epoch 14/30\n",
      "2094/2094 [==============================] - 3s 1ms/step - loss: 0.8507 - accuracy: 0.7579 - val_loss: 0.8462 - val_accuracy: 0.7594\n",
      "Epoch 15/30\n",
      "2094/2094 [==============================] - 3s 1ms/step - loss: 0.8483 - accuracy: 0.7586 - val_loss: 0.8444 - val_accuracy: 0.7618\n",
      "Epoch 16/30\n",
      "2094/2094 [==============================] - 3s 1ms/step - loss: 0.8404 - accuracy: 0.7615 - val_loss: 0.8420 - val_accuracy: 0.7613\n",
      "Epoch 17/30\n",
      "2094/2094 [==============================] - 3s 1ms/step - loss: 0.8493 - accuracy: 0.7591 - val_loss: 0.8400 - val_accuracy: 0.7617\n",
      "Epoch 18/30\n",
      "2094/2094 [==============================] - 3s 1ms/step - loss: 0.8403 - accuracy: 0.7612 - val_loss: 0.8388 - val_accuracy: 0.7620\n",
      "Epoch 19/30\n",
      "2094/2094 [==============================] - 3s 1ms/step - loss: 0.8412 - accuracy: 0.7621 - val_loss: 0.8373 - val_accuracy: 0.7619\n",
      "Epoch 20/30\n",
      "2094/2094 [==============================] - 3s 1ms/step - loss: 0.8289 - accuracy: 0.7642 - val_loss: 0.8361 - val_accuracy: 0.7622\n",
      "Epoch 21/30\n",
      "2094/2094 [==============================] - 3s 1ms/step - loss: 0.8346 - accuracy: 0.7617 - val_loss: 0.8346 - val_accuracy: 0.7642\n",
      "Epoch 22/30\n",
      "2094/2094 [==============================] - 3s 1ms/step - loss: 0.8453 - accuracy: 0.7600 - val_loss: 0.8342 - val_accuracy: 0.7633\n",
      "Epoch 23/30\n",
      "2094/2094 [==============================] - 3s 1ms/step - loss: 0.8320 - accuracy: 0.7652 - val_loss: 0.8327 - val_accuracy: 0.7631\n",
      "Epoch 24/30\n",
      "2094/2094 [==============================] - 3s 1ms/step - loss: 0.8365 - accuracy: 0.7629 - val_loss: 0.8348 - val_accuracy: 0.7600\n",
      "Epoch 25/30\n",
      "2094/2094 [==============================] - 3s 1ms/step - loss: 0.8332 - accuracy: 0.7634 - val_loss: 0.8324 - val_accuracy: 0.7610\n",
      "Epoch 26/30\n",
      "2094/2094 [==============================] - 3s 1ms/step - loss: 0.8381 - accuracy: 0.7614 - val_loss: 0.8318 - val_accuracy: 0.7634\n",
      "Epoch 27/30\n",
      "2094/2094 [==============================] - 3s 1ms/step - loss: 0.8276 - accuracy: 0.7630 - val_loss: 0.8294 - val_accuracy: 0.7640\n",
      "Epoch 28/30\n",
      "2094/2094 [==============================] - 3s 1ms/step - loss: 0.8319 - accuracy: 0.7653 - val_loss: 0.8298 - val_accuracy: 0.7644\n",
      "Epoch 29/30\n",
      "2094/2094 [==============================] - 3s 1ms/step - loss: 0.8341 - accuracy: 0.7650 - val_loss: 0.8281 - val_accuracy: 0.7659\n",
      "Epoch 30/30\n",
      "2094/2094 [==============================] - 3s 1ms/step - loss: 0.8269 - accuracy: 0.7643 - val_loss: 0.8271 - val_accuracy: 0.7649\n"
     ]
    }
   ],
   "source": [
    "model = Sequential()\n",
    "model.add(Dense(10, input_dim=784, activation = 'sigmoid'))\n",
    "model.compile(loss = 'sparse_categorical_crossentropy', optimizer='sgd', metrics = ['accuracy'])\n",
    "baseline = model.fit(X_train, y_train, epochs = 30, validation_data=(X_train, y_train))"
   ]
  },
  {
   "cell_type": "code",
   "execution_count": 46,
   "metadata": {
    "scrolled": false
   },
   "outputs": [
    {
     "name": "stdout",
     "output_type": "stream",
     "text": [
      "Model: \"sequential_5\"\n",
      "_________________________________________________________________\n",
      "Layer (type)                 Output Shape              Param #   \n",
      "=================================================================\n",
      "dense_5 (Dense)              (None, 10)                7850      \n",
      "=================================================================\n",
      "Total params: 7,850\n",
      "Trainable params: 7,850\n",
      "Non-trainable params: 0\n",
      "_________________________________________________________________\n"
     ]
    }
   ],
   "source": [
    "model.summary()"
   ]
  },
  {
   "cell_type": "code",
   "execution_count": 47,
   "metadata": {},
   "outputs": [
    {
     "data": {
      "text/plain": [
       "<tensorflow.python.keras.callbacks.History at 0x1543a96a0>"
      ]
     },
     "execution_count": 47,
     "metadata": {},
     "output_type": "execute_result"
    }
   ],
   "source": [
    "baseline"
   ]
  },
  {
   "cell_type": "markdown",
   "metadata": {
    "colab_type": "text",
    "id": "b0QJURWh-9uv"
   },
   "source": [
    "### Visualize the results\n",
    "\n",
    "Create charts for both loss and accuracy by epoch. Use line graphs for both charts. Analyze the results. \n",
    "\n",
    "At what point should we have stopped training the model and why? "
   ]
  },
  {
   "cell_type": "code",
   "execution_count": 48,
   "metadata": {
    "colab": {},
    "colab_type": "code",
    "id": "KONJtU5wqlXf"
   },
   "outputs": [
    {
     "data": {
      "text/plain": [
       "{'loss': [1.1994839906692505,\n",
       "  0.9637940526008606,\n",
       "  0.9255771040916443,\n",
       "  0.906510591506958,\n",
       "  0.8939223289489746,\n",
       "  0.88466477394104,\n",
       "  0.8773022294044495,\n",
       "  0.8717671632766724,\n",
       "  0.8667863011360168,\n",
       "  0.8626323938369751,\n",
       "  0.8589627146720886,\n",
       "  0.8559545874595642,\n",
       "  0.8532594442367554,\n",
       "  0.8508772850036621,\n",
       "  0.8484765291213989,\n",
       "  0.8466300368309021,\n",
       "  0.844797670841217,\n",
       "  0.8431757688522339,\n",
       "  0.8416776657104492,\n",
       "  0.8402442336082458,\n",
       "  0.8389979004859924,\n",
       "  0.8380864262580872,\n",
       "  0.8367462754249573,\n",
       "  0.8357896208763123,\n",
       "  0.8348200917243958,\n",
       "  0.8337517976760864,\n",
       "  0.8330643773078918,\n",
       "  0.832443118095398,\n",
       "  0.8315649628639221,\n",
       "  0.8310608863830566],\n",
       " 'accuracy': [0.6413581967353821,\n",
       "  0.7211194038391113,\n",
       "  0.7329850792884827,\n",
       "  0.7408358454704285,\n",
       "  0.7437313199043274,\n",
       "  0.7470895648002625,\n",
       "  0.7500447630882263,\n",
       "  0.7514626979827881,\n",
       "  0.7530447840690613,\n",
       "  0.7539850473403931,\n",
       "  0.7553582191467285,\n",
       "  0.757044792175293,\n",
       "  0.7568358182907104,\n",
       "  0.7578209042549133,\n",
       "  0.7582686543464661,\n",
       "  0.7601940035820007,\n",
       "  0.7606418132781982,\n",
       "  0.7610448002815247,\n",
       "  0.7605671882629395,\n",
       "  0.7617611885070801,\n",
       "  0.7621641755104065,\n",
       "  0.7617014646530151,\n",
       "  0.7627015113830566,\n",
       "  0.7630447745323181,\n",
       "  0.7630298733711243,\n",
       "  0.7636417746543884,\n",
       "  0.7632836103439331,\n",
       "  0.7636865377426147,\n",
       "  0.7645522356033325,\n",
       "  0.7644925117492676],\n",
       " 'val_loss': [0.9948611259460449,\n",
       "  0.9366245865821838,\n",
       "  0.9124273061752319,\n",
       "  0.8961548805236816,\n",
       "  0.8844982981681824,\n",
       "  0.8773309588432312,\n",
       "  0.872596263885498,\n",
       "  0.8661768436431885,\n",
       "  0.8625509738922119,\n",
       "  0.8581057786941528,\n",
       "  0.8541610240936279,\n",
       "  0.8503992557525635,\n",
       "  0.8485894799232483,\n",
       "  0.8461795449256897,\n",
       "  0.844373345375061,\n",
       "  0.8419857621192932,\n",
       "  0.8399936556816101,\n",
       "  0.8387818336486816,\n",
       "  0.8373385071754456,\n",
       "  0.8361087441444397,\n",
       "  0.8345853090286255,\n",
       "  0.8341859579086304,\n",
       "  0.8327040076255798,\n",
       "  0.8347514867782593,\n",
       "  0.8324396014213562,\n",
       "  0.8317531943321228,\n",
       "  0.8294130563735962,\n",
       "  0.8298333287239075,\n",
       "  0.8280817866325378,\n",
       "  0.8270729184150696],\n",
       " 'val_accuracy': [0.7103880643844604,\n",
       "  0.7296268939971924,\n",
       "  0.7360447645187378,\n",
       "  0.7431790828704834,\n",
       "  0.7480447888374329,\n",
       "  0.7484179139137268,\n",
       "  0.7525970339775085,\n",
       "  0.7541193962097168,\n",
       "  0.7545671463012695,\n",
       "  0.7569403052330017,\n",
       "  0.7570746541023254,\n",
       "  0.7588507533073425,\n",
       "  0.7581940293312073,\n",
       "  0.7593880891799927,\n",
       "  0.7617611885070801,\n",
       "  0.7613134384155273,\n",
       "  0.7617462873458862,\n",
       "  0.761955201625824,\n",
       "  0.7618507742881775,\n",
       "  0.7621641755104065,\n",
       "  0.7642388343811035,\n",
       "  0.7632686495780945,\n",
       "  0.7631343007087708,\n",
       "  0.7600149512290955,\n",
       "  0.7609850764274597,\n",
       "  0.7633731365203857,\n",
       "  0.7639999985694885,\n",
       "  0.7644477486610413,\n",
       "  0.7658507227897644,\n",
       "  0.7648507356643677]}"
      ]
     },
     "execution_count": 48,
     "metadata": {},
     "output_type": "execute_result"
    }
   ],
   "source": [
    "baseline.history"
   ]
  },
  {
   "cell_type": "code",
   "execution_count": 49,
   "metadata": {
    "colab": {},
    "colab_type": "code",
    "id": "ijAlzfYKAFaY"
   },
   "outputs": [
    {
     "data": {
      "image/png": "[encoded data removed]",
      "text/plain": [
       "<Figure size 432x288 with 1 Axes>"
      ]
     },
     "metadata": {
      "needs_background": "light"
     },
     "output_type": "display_data"
    }
   ],
   "source": [
    "import seaborn as sns\n",
    "import pandas as pd\n",
    "\n",
    "df = pd.DataFrame.from_records(baseline.history)\n",
    "df['epoch'] = [i for i in range(df.shape[0])]\n",
    "\n",
    "ax = sns.lineplot(x='epoch', y='val_loss', data=df)\n",
    "ax = sns.lineplot(x='epoch', y='loss', data=df);\n"
   ]
  },
  {
   "cell_type": "markdown",
   "metadata": {
    "colab_type": "text",
    "id": "MAhBrcE4yOZe"
   },
   "source": [
    "## Change Optimizers\n",
    "Try using the keras `adam` optimizer instead of `sgd` in your model. Visualize the difference in validation loss between the models with different optimizers. "
   ]
  },
  {
   "cell_type": "code",
   "execution_count": 50,
   "metadata": {
    "colab": {},
    "colab_type": "code",
    "id": "jIW_spOZ0cxy",
    "scrolled": true
   },
   "outputs": [
    {
     "name": "stdout",
     "output_type": "stream",
     "text": [
      "Epoch 1/30\n",
      "2094/2094 [==============================] - 3s 2ms/step - loss: 0.8302 - accuracy: 0.7649 - val_loss: 0.8263 - val_accuracy: 0.7667\n",
      "Epoch 2/30\n",
      "2094/2094 [==============================] - 3s 1ms/step - loss: 0.8298 - accuracy: 0.7654 - val_loss: 0.8300 - val_accuracy: 0.7588\n",
      "Epoch 3/30\n",
      "2094/2094 [==============================] - 3s 1ms/step - loss: 0.8291 - accuracy: 0.7653 - val_loss: 0.8261 - val_accuracy: 0.7670\n",
      "Epoch 4/30\n",
      "2094/2094 [==============================] - 3s 1ms/step - loss: 0.8285 - accuracy: 0.7648 - val_loss: 0.8257 - val_accuracy: 0.7670\n",
      "Epoch 5/30\n",
      "2094/2094 [==============================] - 3s 1ms/step - loss: 0.8279 - accuracy: 0.7655 - val_loss: 0.8249 - val_accuracy: 0.7658\n",
      "Epoch 6/30\n",
      "2094/2094 [==============================] - 3s 1ms/step - loss: 0.8276 - accuracy: 0.7653 - val_loss: 0.8237 - val_accuracy: 0.7681\n",
      "Epoch 7/30\n",
      "2094/2094 [==============================] - 3s 1ms/step - loss: 0.8269 - accuracy: 0.7650 - val_loss: 0.8232 - val_accuracy: 0.7672\n",
      "Epoch 8/30\n",
      "2094/2094 [==============================] - 3s 1ms/step - loss: 0.8266 - accuracy: 0.7654 - val_loss: 0.8224 - val_accuracy: 0.7675\n",
      "Epoch 9/30\n",
      "2094/2094 [==============================] - 3s 1ms/step - loss: 0.8261 - accuracy: 0.7654 - val_loss: 0.8229 - val_accuracy: 0.7676\n",
      "Epoch 10/30\n",
      "2094/2094 [==============================] - 3s 1ms/step - loss: 0.8257 - accuracy: 0.7656 - val_loss: 0.8218 - val_accuracy: 0.7667\n",
      "Epoch 11/30\n",
      "2094/2094 [==============================] - 3s 1ms/step - loss: 0.8253 - accuracy: 0.7659 - val_loss: 0.8221 - val_accuracy: 0.7659\n",
      "Epoch 12/30\n",
      "2094/2094 [==============================] - 3s 1ms/step - loss: 0.8250 - accuracy: 0.7652 - val_loss: 0.8210 - val_accuracy: 0.7679\n",
      "Epoch 13/30\n",
      "2094/2094 [==============================] - 3s 1ms/step - loss: 0.8245 - accuracy: 0.7667 - val_loss: 0.8214 - val_accuracy: 0.7697\n",
      "Epoch 14/30\n",
      "2094/2094 [==============================] - 3s 1ms/step - loss: 0.8242 - accuracy: 0.7667 - val_loss: 0.8213 - val_accuracy: 0.7663\n",
      "Epoch 15/30\n",
      "2094/2094 [==============================] - 3s 1ms/step - loss: 0.8238 - accuracy: 0.7669 - val_loss: 0.8210 - val_accuracy: 0.7691\n",
      "Epoch 16/30\n",
      "2094/2094 [==============================] - 3s 1ms/step - loss: 0.8234 - accuracy: 0.7669 - val_loss: 0.8201 - val_accuracy: 0.7685\n",
      "Epoch 17/30\n",
      "2094/2094 [==============================] - 3s 1ms/step - loss: 0.8231 - accuracy: 0.7664 - val_loss: 0.8212 - val_accuracy: 0.7648\n",
      "Epoch 18/30\n",
      "2094/2094 [==============================] - 3s 1ms/step - loss: 0.8229 - accuracy: 0.7664 - val_loss: 0.8192 - val_accuracy: 0.7665\n",
      "Epoch 19/30\n",
      "2094/2094 [==============================] - 4s 2ms/step - loss: 0.8225 - accuracy: 0.7674 - val_loss: 0.8199 - val_accuracy: 0.7680\n",
      "Epoch 20/30\n",
      "2094/2094 [==============================] - 3s 1ms/step - loss: 0.8221 - accuracy: 0.7666 - val_loss: 0.8186 - val_accuracy: 0.7675\n",
      "Epoch 21/30\n",
      "2094/2094 [==============================] - 3s 1ms/step - loss: 0.8220 - accuracy: 0.7674 - val_loss: 0.8187 - val_accuracy: 0.7664\n",
      "Epoch 22/30\n",
      "2094/2094 [==============================] - 3s 1ms/step - loss: 0.8218 - accuracy: 0.7668 - val_loss: 0.8182 - val_accuracy: 0.7686\n",
      "Epoch 23/30\n",
      "2094/2094 [==============================] - 3s 1ms/step - loss: 0.8216 - accuracy: 0.7669 - val_loss: 0.8190 - val_accuracy: 0.7674\n",
      "Epoch 24/30\n",
      "2094/2094 [==============================] - 2s 1ms/step - loss: 0.8213 - accuracy: 0.7667 - val_loss: 0.8180 - val_accuracy: 0.7693\n",
      "Epoch 25/30\n",
      "2094/2094 [==============================] - 3s 1ms/step - loss: 0.8210 - accuracy: 0.7670 - val_loss: 0.8174 - val_accuracy: 0.7687\n",
      "Epoch 26/30\n",
      "2094/2094 [==============================] - 3s 1ms/step - loss: 0.8207 - accuracy: 0.7680 - val_loss: 0.8183 - val_accuracy: 0.7686\n",
      "Epoch 27/30\n",
      "2094/2094 [==============================] - 3s 1ms/step - loss: 0.8205 - accuracy: 0.7669 - val_loss: 0.8167 - val_accuracy: 0.7690\n",
      "Epoch 28/30\n",
      "2094/2094 [==============================] - 3s 1ms/step - loss: 0.8201 - accuracy: 0.7676 - val_loss: 0.8173 - val_accuracy: 0.7673\n",
      "Epoch 29/30\n",
      "2094/2094 [==============================] - 3s 1ms/step - loss: 0.8201 - accuracy: 0.7670 - val_loss: 0.8162 - val_accuracy: 0.7694\n",
      "Epoch 30/30\n",
      "2094/2094 [==============================] - 3s 1ms/step - loss: 0.8198 - accuracy: 0.7682 - val_loss: 0.8160 - val_accuracy: 0.7697\n"
     ]
    }
   ],
   "source": [
    "from tensorflow.keras.optimizers import Adam\n",
    "\n",
    "model_b = Sequential()\n",
    "model_b.add(Dense(10, input_dim=784, activation = 'sigmoid'))\n",
    "model_b.compile(loss = 'sparse_categorical_crossentropy', optimizer='adam', metrics = ['accuracy'])\n",
    "baseline_b = model.fit(X_train, y_train, epochs = 30, validation_data=(X_train, y_train))"
   ]
  },
  {
   "cell_type": "code",
   "execution_count": null,
   "metadata": {},
   "outputs": [],
   "source": [
    "df = pd.DataFrame.from_records(baseline_b.history)\n",
    "df['epoch'] = [i for i in range(df.shape[0])]\n",
    "\n",
    "ax = sns.lineplot(x='epoch', y='val_loss', data=df)\n",
    "ax = sns.lineplot(x='epoch', y='loss', data=df);"
   ]
  },
  {
   "cell_type": "markdown",
   "metadata": {
    "colab_type": "text",
    "id": "EJrbh3qryi4w"
   },
   "source": [
    "### Additional Written Tasks:\n",
    "In this section, you will need to search for resources: \n",
    "1. Investigate the various [loss functions](https://www.tensorflow.org/api_docs/python/tf/keras/losses). Which is best suited for the task at hand (predicting 1 / 0) and why? \n",
    "    - \"The purpose of loss functions is to compute the quantity that a model should seek to minimize during training\". I think the binary_crossentropy function could be best suited since it is designed for only two categorical outputs\n",
    "2. What is the difference between a loss function and a metric? Why might we need both in Keras? \n",
    "    - Metrics are used to judge performance. Metrics are reported after the model is made while loss functions help to build a better model while it is being made\n",
    "3. Investigate the various [optimizers](https://www.tensorflow.org/api_docs/python/tf/keras/optimizers). Stochastic Gradient Descent (`sgd`) is not the learning algorithm dejour anyone. Why is that? What do newer optimizers such as `adam` have to offer? \n",
    "    - They build on earlier models"
   ]
  },
  {
   "cell_type": "markdown",
   "metadata": {
    "colab_type": "text",
    "id": "Gzs4fd-RynDd"
   },
   "source": [
    "## Stretch Goals: \n",
    "\n",
    "- Research convolutional neural networks and try including convolution layers in your network.\n",
    "- Pick two classes and make QuickDraw a binary classification problem, how does your model architecture change?\n",
    "- Implement Cross Validation model evaluation on your Quickdraw implementation \n",
    "\n",
    "Watch some more videos on Gradient Descent:\n",
    "- [Gradient Descent, Step-by-Step](https://www.youtube.com/watch?v=sDv4f4s2SB8)  by StatQuest w/ Josh Starmer. This will help you understand the gradient descent based optimization that happens underneath the hood of neural networks. It uses a non-neural network example, which I believe is a gentler introduction. You will hear me refer to this technique as \"vanilla\" gradient descent. \n",
    "- [Stochastic Gradient Descent, Clearly Explained!!!](https://www.youtube.com/watch?v=vMh0zPT0tLI) by StatQuest w/ Josh Starmer. This builds on the techniques in the previous video.  This technique is the one that is actually implemented inside modern 'nets. \n",
    "- [Siraj Raval the evolution of gradient descent](https://www.youtube.com/watch?v=nhqo0u1a6fw)"
   ]
  }
 ],
 "metadata": {
  "accelerator": "GPU",
  "colab": {
   "collapsed_sections": [],
   "name": "LS_DS_432_TensorFlow_Assignment",
   "provenance": []
  },
  "kernelspec": {
   "display_name": "Python 3",
   "language": "python",
   "name": "python3"
  },
  "language_info": {
   "codemirror_mode": {
    "name": "ipython",
    "version": 3
   },
   "file_extension": ".py",
   "mimetype": "text/x-python",
   "name": "python",
   "nbconvert_exporter": "python",
   "pygments_lexer": "ipython3",
   "version": "3.8.7"
  }
 },
 "nbformat": 4,
 "nbformat_minor": 1
}
