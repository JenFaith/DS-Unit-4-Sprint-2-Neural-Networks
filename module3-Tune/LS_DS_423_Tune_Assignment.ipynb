{
 "cells": [
  {
   "cell_type": "markdown",
   "metadata": {
    "colab_type": "text",
    "id": "NGGrt9EYlCqY"
   },
   "source": [
    "<img align=\"left\" src=\"https://lever-client-logos.s3.amazonaws.com/864372b1-534c-480e-acd5-9711f850815c-1524247202159.png\" width=200>\n",
    "<br></br>\n",
    "<br></br>\n",
    "\n",
    "# Train Practice\n",
    "\n",
    "## *Data Science Unit 4 Sprint 2 Assignment 3*\n",
    "\n",
    "Continue to use TensorFlow Keras & a sample of the [Quickdraw dataset](https://github.com/googlecreativelab/quickdraw-dataset) to build a sketch classification model. The dataset has been sampled to only 10 classes and 10000 observations per class. Using your baseline model from yesterday, hyperparameter tune it and report on your highest validation accuracy. Your singular goal today is to achieve the highest accuracy possible.\n",
    "\n",
    "*Don't forgot to switch to GPU on Colab!*"
   ]
  },
  {
   "cell_type": "markdown",
   "metadata": {
    "colab_type": "text",
    "id": "ptJ2b3wk62Ud"
   },
   "source": [
    "### Hyperparameters to Tune\n",
    "\n",
    "At a minimum, tune each of these hyperparameters using any strategy we discussed during lecture today: \n",
    "- Optimizer\n",
    "- Learning Rate\n",
    "- Activiation Function\n",
    "  - At least 1 subparameter within the Relu activation function\n",
    "- Number of Neurons in Hidden Layers\n",
    "- Number of Hidden Layers\n",
    "- Weight Initialization"
   ]
  },
  {
   "cell_type": "code",
   "execution_count": 3,
   "metadata": {
    "colab": {},
    "colab_type": "code",
    "id": "USXjs7Hk71Hy"
   },
   "outputs": [],
   "source": [
    "import pandas as pd\n",
    "import numpy as np\n",
    "import tensorflow as ts\n",
    "import seaborn as sns\n",
    "import shuffle"
   ]
  },
  {
   "cell_type": "code",
   "execution_count": 18,
   "metadata": {},
   "outputs": [],
   "source": [
    "from sklearn.model_selection import GridSearchCV\n",
    "from tensorflow.keras.models import Sequential\n",
    "from tensorflow.keras.layers import Dense\n",
    "\n",
    "# required for compatibility bewteen sklearn and keras\n",
    "from tensorflow.keras.wrappers.scikit_learn import KerasClassifier\n",
    "\n",
    "from sklearn.model_selection import train_test_split\n",
    "from sklearn.utils import shuffle"
   ]
  },
  {
   "cell_type": "code",
   "execution_count": 19,
   "metadata": {},
   "outputs": [],
   "source": [
    "path=\"/Users/jenniferquigley/DS22/DS-Unit-4-Sprint-2-Neural-Networks/module2-Train/quickdraw10.npz\""
   ]
  },
  {
   "cell_type": "code",
   "execution_count": 20,
   "metadata": {},
   "outputs": [],
   "source": [
    "def load_quickdraw10(path):\n",
    "    # Load dataset\n",
    "    data = np.load(path)\n",
    "    \n",
    "    # Split into X & y\n",
    "    X = data['arr_0']\n",
    "    y = data['arr_1']\n",
    "    \n",
    "    # normalize X\n",
    "    X = X.astype('float')/255\n",
    "    \n",
    "    # Randomly shuffle X & y\n",
    "    X, y = shuffle(X, y)\n",
    "    \n",
    "    X_train, X_test, y_train, y_test = train_test_split(X, y, test_size = 0.33, random_state = 42)\n",
    "    \n",
    "    # Split into train, test sets\n",
    "    return X_train, y_train, X_test, y_test"
   ]
  },
  {
   "cell_type": "code",
   "execution_count": 23,
   "metadata": {},
   "outputs": [],
   "source": [
    "X_train, y_train, X_test, y_test = load_quickdraw10(path)"
   ]
  },
  {
   "cell_type": "code",
   "execution_count": 36,
   "metadata": {},
   "outputs": [
    {
     "data": {
      "text/plain": [
       "(67000, 784)"
      ]
     },
     "execution_count": 36,
     "metadata": {},
     "output_type": "execute_result"
    }
   ],
   "source": [
    "X_train.shape"
   ]
  },
  {
   "cell_type": "code",
   "execution_count": 35,
   "metadata": {},
   "outputs": [
    {
     "data": {
      "text/plain": [
       "(67000,)"
      ]
     },
     "execution_count": 35,
     "metadata": {},
     "output_type": "execute_result"
    }
   ],
   "source": [
    "y_train.shape"
   ]
  },
  {
   "cell_type": "code",
   "execution_count": 1,
   "metadata": {},
   "outputs": [],
   "source": [
    "# Function to create model, required for KerasClassifier\n",
    "def create_model(units=32):\n",
    "\n",
    "    # instaniate a Sequential object\n",
    "    model = Sequential()\n",
    "    \n",
    "    # add hidden layer \n",
    "    model.add(Dense(units, input_dim=784, activation=\"relu\"))\n",
    "    \n",
    "    # add output layer \n",
    "    # for multi-class classification, you necessarily must use the softmax act func \n",
    "    # number of units = number of unique labels to predict\n",
    "    model.add(Dense(10, activation = \"softmax\"))\n",
    "    \n",
    "    # complie the model \n",
    "    model.compile(loss=\"sparse_categorical_crossentropy\", \n",
    "                  optimizer=\"adam\",\n",
    "                  metrics=[\"accuracy\"])\n",
    "    \n",
    "    # return the model \n",
    "    return model"
   ]
  },
  {
   "cell_type": "code",
   "execution_count": 2,
   "metadata": {},
   "outputs": [
    {
     "ename": "NameError",
     "evalue": "name 'KerasClassifier' is not defined",
     "output_type": "error",
     "traceback": [
      "\u001b[0;31m---------------------------------------------------------------------------\u001b[0m",
      "\u001b[0;31mNameError\u001b[0m                                 Traceback (most recent call last)",
      "\u001b[0;32m<ipython-input-2-d5ce3444c54d>\u001b[0m in \u001b[0;36m<module>\u001b[0;34m\u001b[0m\n\u001b[0;32m----> 1\u001b[0;31m \u001b[0mmodel\u001b[0m \u001b[0;34m=\u001b[0m \u001b[0mKerasClassifier\u001b[0m\u001b[0;34m(\u001b[0m\u001b[0mbuild_fn\u001b[0m\u001b[0;34m=\u001b[0m\u001b[0mcreate_model\u001b[0m\u001b[0;34m)\u001b[0m\u001b[0;34m\u001b[0m\u001b[0;34m\u001b[0m\u001b[0m\n\u001b[0m",
      "\u001b[0;31mNameError\u001b[0m: name 'KerasClassifier' is not defined"
     ]
    }
   ],
   "source": [
    "model = KerasClassifier(build_fn=create_model)"
   ]
  },
  {
   "cell_type": "code",
   "execution_count": 39,
   "metadata": {},
   "outputs": [],
   "source": [
    "# define the grid search parameters\n",
    "param_grid = {'batch_size': [32, 64, 128],\n",
    "              'epochs': [3, 8, 15],\n",
    "              'units':[32, 64, 98]}"
   ]
  },
  {
   "cell_type": "code",
   "execution_count": 41,
   "metadata": {},
   "outputs": [],
   "source": [
    "grid = GridSearchCV(estimator=model, \n",
    "                    param_grid=param_grid, \n",
    "                    n_jobs=-2, \n",
    "                    verbose=1, \n",
    "                    cv=3)"
   ]
  },
  {
   "cell_type": "code",
   "execution_count": 42,
   "metadata": {
    "scrolled": true
   },
   "outputs": [
    {
     "name": "stdout",
     "output_type": "stream",
     "text": [
      "Fitting 3 folds for each of 27 candidates, totalling 81 fits\n",
      "Epoch 1/15\n",
      "524/524 [==============================] - 1s 1ms/step - loss: 1.0428 - accuracy: 0.6806\n",
      "Epoch 2/15\n",
      "524/524 [==============================] - 1s 1ms/step - loss: 0.6133 - accuracy: 0.8226\n",
      "Epoch 3/15\n",
      "524/524 [==============================] - 1s 1ms/step - loss: 0.5291 - accuracy: 0.8464\n",
      "Epoch 4/15\n",
      "524/524 [==============================] - 1s 1ms/step - loss: 0.4743 - accuracy: 0.8626\n",
      "Epoch 5/15\n",
      "524/524 [==============================] - 1s 1ms/step - loss: 0.4337 - accuracy: 0.8763\n",
      "Epoch 6/15\n",
      "524/524 [==============================] - 1s 1ms/step - loss: 0.4132 - accuracy: 0.8811\n",
      "Epoch 7/15\n",
      "524/524 [==============================] - 1s 1ms/step - loss: 0.3841 - accuracy: 0.8882\n",
      "Epoch 8/15\n",
      "524/524 [==============================] - 1s 1ms/step - loss: 0.3613 - accuracy: 0.8961\n",
      "Epoch 9/15\n",
      "524/524 [==============================] - 1s 1ms/step - loss: 0.3327 - accuracy: 0.9034\n",
      "Epoch 10/15\n",
      "524/524 [==============================] - 1s 1ms/step - loss: 0.3265 - accuracy: 0.9057\n",
      "Epoch 11/15\n",
      "524/524 [==============================] - 1s 1ms/step - loss: 0.3065 - accuracy: 0.9117\n",
      "Epoch 12/15\n",
      "524/524 [==============================] - 1s 2ms/step - loss: 0.2907 - accuracy: 0.9185\n",
      "Epoch 13/15\n",
      "524/524 [==============================] - 1s 2ms/step - loss: 0.2820 - accuracy: 0.9194\n",
      "Epoch 14/15\n",
      "524/524 [==============================] - 1s 2ms/step - loss: 0.2685 - accuracy: 0.9246\n",
      "Epoch 15/15\n",
      "524/524 [==============================] - 1s 2ms/step - loss: 0.2561 - accuracy: 0.9272\n"
     ]
    }
   ],
   "source": [
    "grid_result = grid.fit(X_train, y_train)"
   ]
  },
  {
   "cell_type": "code",
   "execution_count": 44,
   "metadata": {},
   "outputs": [
    {
     "name": "stdout",
     "output_type": "stream",
     "text": [
      "Best: 0.851955235004425 using {'batch_size': 128, 'epochs': 15, 'units': 98}\n"
     ]
    }
   ],
   "source": [
    "print(f\"Best: {grid_result.best_score_} using {grid_result.best_params_}\")"
   ]
  },
  {
   "cell_type": "markdown",
   "metadata": {
    "colab_type": "text",
    "id": "LKbr1gRg9BXs"
   },
   "source": [
    "### Stretch Goals\n",
    "- Implement Bayesian Hyper-parameter Optimization\n",
    "- Select a new dataset and apply a neural network to it.\n",
    "- Use a cloud base experiment tracking framework such as weights and biases\n",
    "- Research potential architecture ideas for this problem. Try Lenet-10 for example. "
   ]
  }
 ],
 "metadata": {
  "colab": {
   "collapsed_sections": [],
   "name": "LS_DS_433_Tune_Assignment.ipynb",
   "provenance": []
  },
  "kernelspec": {
   "display_name": "Python 3",
   "language": "python",
   "name": "python3"
  },
  "language_info": {
   "codemirror_mode": {
    "name": "ipython",
    "version": 3
   },
   "file_extension": ".py",
   "mimetype": "text/x-python",
   "name": "python",
   "nbconvert_exporter": "python",
   "pygments_lexer": "ipython3",
   "version": "3.8.7"
  },
  "nteract": {
   "version": "0.22.4"
  }
 },
 "nbformat": 4,
 "nbformat_minor": 1
}
