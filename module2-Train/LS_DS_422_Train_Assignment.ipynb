{
 "cells": [
  {
   "cell_type": "markdown",
   "metadata": {
    "colab_type": "text",
    "id": "NGGrt9EYlCqY"
   },
   "source": [
    "<img align=\"left\" src=\"https://lever-client-logos.s3.amazonaws.com/864372b1-534c-480e-acd5-9711f850815c-1524247202159.png\" width=200>\n",
    "<br></br>\n",
    "<br></br>\n",
    "\n",
    "# Train Practice\n",
    "\n",
    "## *Data Science Unit 4 Sprint 2 Assignment 2*\n",
    "\n",
    "Continue to use TensorFlow Keras & a sample of the [Quickdraw dataset](https://github.com/googlecreativelab/quickdraw-dataset) to build a sketch classification model. The dataset has been sampled to only 10 classes and 10000 observations per class. Please build a baseline classification model then run a few experiments with different optimizers and learning rates. \n",
    "\n",
    "*Don't forgot to switch to GPU on Colab!*"
   ]
  },
  {
   "cell_type": "markdown",
   "metadata": {
    "colab_type": "text",
    "id": "ptJ2b3wk62Ud"
   },
   "source": [
    "### Write a function to load your data\n",
    "\n",
    "Wrap yesterday's preprocessing steps into a function that returns four items:\n",
    "* X_train\n",
    "* y_train\n",
    "* X_test\n",
    "* y_test\n",
    "\n",
    "Your function should accept a `path` to the data as a argument."
   ]
  },
  {
   "cell_type": "code",
   "execution_count": 51,
   "metadata": {},
   "outputs": [],
   "source": [
    "import pandas as pd\n",
    "import numpy as np\n",
    "import tensorflow as tf \n",
    "import seaborn as sns"
   ]
  },
  {
   "cell_type": "code",
   "execution_count": 10,
   "metadata": {},
   "outputs": [],
   "source": [
    "from sklearn.model_selection import train_test_split\n",
    "from sklearn.utils import shuffle"
   ]
  },
  {
   "cell_type": "code",
   "execution_count": 47,
   "metadata": {},
   "outputs": [],
   "source": [
    "from tensorflow.keras.models import Sequential\n",
    "from tensorflow.keras.layers import Dense\n",
    "from tensorflow import keras\n",
    "from tensorflow.keras import layers\n",
    "from tensorflow.keras.optimizers import SGD"
   ]
  },
  {
   "cell_type": "code",
   "execution_count": 3,
   "metadata": {},
   "outputs": [],
   "source": [
    "data = np.load('quickdraw10.npz')"
   ]
  },
  {
   "cell_type": "code",
   "execution_count": 4,
   "metadata": {},
   "outputs": [
    {
     "data": {
      "text/plain": [
       "<numpy.lib.npyio.NpzFile at 0x1109e8df0>"
      ]
     },
     "execution_count": 4,
     "metadata": {},
     "output_type": "execute_result"
    }
   ],
   "source": [
    "data"
   ]
  },
  {
   "cell_type": "code",
   "execution_count": 5,
   "metadata": {},
   "outputs": [],
   "source": [
    "path = 'quickdraw10.npz'"
   ]
  },
  {
   "cell_type": "code",
   "execution_count": 26,
   "metadata": {
    "colab": {},
    "colab_type": "code",
    "id": "nJsIsrvp7O3e"
   },
   "outputs": [],
   "source": [
    "def load_quickdraw10(path):\n",
    "    # Load dataset\n",
    "    data = np.load(path)\n",
    "    \n",
    "    # Split into X & y\n",
    "    X = data['arr_0']\n",
    "    y = data['arr_1']\n",
    "    \n",
    "    # normalize X\n",
    "    X = X.astype('float')/255\n",
    "    \n",
    "    # Randomly shuffle X & y\n",
    "    X, y = shuffle(X, y)\n",
    "    \n",
    "    X_train, X_test, y_train, y_test = train_test_split(X, y, test_size = 0.33, random_state = 42)\n",
    "    \n",
    "    # Split into train, test sets\n",
    "    return X_train, y_train, X_test, y_test"
   ]
  },
  {
   "cell_type": "code",
   "execution_count": 27,
   "metadata": {},
   "outputs": [],
   "source": [
    "X_train, y_train, X_test, y_test = load_quickdraw10(path)"
   ]
  },
  {
   "cell_type": "code",
   "execution_count": 28,
   "metadata": {},
   "outputs": [
    {
     "data": {
      "text/plain": [
       "1.0"
      ]
     },
     "execution_count": 28,
     "metadata": {},
     "output_type": "execute_result"
    }
   ],
   "source": [
    "# Double checking function worked properly\n",
    "X_train.max()"
   ]
  },
  {
   "cell_type": "markdown",
   "metadata": {
    "colab_type": "text",
    "id": "l-6PxI6H5__2"
   },
   "source": [
    "### Write a Model Function\n",
    "Using your model from yesterday, write a function called `create_model` which returns a compiled TensorFlow Keras Sequential Model suitable for classifying the QuickDraw-10 dataset. Include parameters for the following: \n",
    "* Learning Rate\n",
    "* Optimizer"
   ]
  },
  {
   "cell_type": "markdown",
   "metadata": {},
   "source": [
    "Process from notes:\n",
    "\n",
    "0. Pick a network architecture\n",
    "   - No. of input units = No. of features\n",
    "   - No. of output units = Number of Classes (or expected targets)\n",
    "   - Select the number of hidden layers and number of neurons within each hidden layer\n",
    "1. Randomly initialize weights\n",
    "2. Implement forward propagation to get $h_{\\theta}(x^{(i)})$ for any $x^{(i)}$\n",
    "3. Implement code to compute a cost function $J(\\theta)$\n",
    "4. Implement backpropagation to compute partial derivatives $\\frac{\\delta}{\\delta\\theta_{jk}^{l}}{J(\\theta)}$\n",
    "5. Use gradient descent (or other advanced optimizer) with backpropagation to minimize $J(\\theta)$ as a function of parameters $\\theta\\$\n",
    "6. Repeat steps 2 - 5 until cost function is 'minimized' or some other stopping criteria is met. One pass over steps 2 - 5 is called an iteration or epoch."
   ]
  },
  {
   "cell_type": "code",
   "execution_count": 48,
   "metadata": {
    "colab": {},
    "colab_type": "code",
    "id": "nEREYT-3wI1f"
   },
   "outputs": [],
   "source": [
    "##### Your Code Here #####\n",
    "    \n",
    "def create_model(lr=.01):  \n",
    "    opt = SGD(learning_rate=lr)\n",
    "\n",
    "    model = Sequential([\n",
    "          # hidden layer 1 \n",
    "          Dense(100, activation='relu', input_dim=784),\n",
    "          # hidden layer 2 \n",
    "          Dense(32, activation='relu'),\n",
    "          # output layer \n",
    "          Dense(10, activation='softmax')\n",
    "\n",
    "    ])\n",
    "\n",
    "    model.compile(optimizer=opt, \n",
    "                  loss='sparse_categorical_crossentropy',\n",
    "                  metrics=['accuracy'])\n",
    "    return model"
   ]
  },
  {
   "cell_type": "code",
   "execution_count": 50,
   "metadata": {},
   "outputs": [
    {
     "name": "stdout",
     "output_type": "stream",
     "text": [
      "Epoch 1/30\n",
      "2094/2094 [==============================] - 3s 2ms/step - loss: 1.4977 - accuracy: 0.5169 - val_loss: 0.8538 - val_accuracy: 0.7437\n",
      "Epoch 2/30\n",
      "2094/2094 [==============================] - 3s 1ms/step - loss: 0.8072 - accuracy: 0.7644 - val_loss: 0.7431 - val_accuracy: 0.7828\n",
      "Epoch 3/30\n",
      "2094/2094 [==============================] - 3s 1ms/step - loss: 0.7157 - accuracy: 0.7901 - val_loss: 0.6878 - val_accuracy: 0.7984\n",
      "Epoch 4/30\n",
      "2094/2094 [==============================] - 3s 1ms/step - loss: 0.6575 - accuracy: 0.8103 - val_loss: 0.6532 - val_accuracy: 0.8069\n",
      "Epoch 5/30\n",
      "2094/2094 [==============================] - 4s 2ms/step - loss: 0.6165 - accuracy: 0.8208 - val_loss: 0.6166 - val_accuracy: 0.8169\n",
      "Epoch 6/30\n",
      "2094/2094 [==============================] - 3s 2ms/step - loss: 0.5890 - accuracy: 0.8283 - val_loss: 0.5920 - val_accuracy: 0.8247\n",
      "Epoch 7/30\n",
      "2094/2094 [==============================] - 3s 1ms/step - loss: 0.5486 - accuracy: 0.8411 - val_loss: 0.5702 - val_accuracy: 0.8308\n",
      "Epoch 8/30\n",
      "2094/2094 [==============================] - 3s 1ms/step - loss: 0.5148 - accuracy: 0.8478 - val_loss: 0.5537 - val_accuracy: 0.8358\n",
      "Epoch 9/30\n",
      "2094/2094 [==============================] - 3s 1ms/step - loss: 0.4973 - accuracy: 0.8547 - val_loss: 0.5423 - val_accuracy: 0.8384\n",
      "Epoch 10/30\n",
      "2094/2094 [==============================] - 3s 1ms/step - loss: 0.4748 - accuracy: 0.8596 - val_loss: 0.5286 - val_accuracy: 0.8438\n",
      "Epoch 11/30\n",
      "2094/2094 [==============================] - 3s 1ms/step - loss: 0.4697 - accuracy: 0.8641 - val_loss: 0.5176 - val_accuracy: 0.8482\n",
      "Epoch 12/30\n",
      "2094/2094 [==============================] - 3s 1ms/step - loss: 0.4444 - accuracy: 0.8719 - val_loss: 0.5133 - val_accuracy: 0.8493\n",
      "Epoch 13/30\n",
      "2094/2094 [==============================] - 3s 1ms/step - loss: 0.4313 - accuracy: 0.8751 - val_loss: 0.5056 - val_accuracy: 0.8534\n",
      "Epoch 14/30\n",
      "2094/2094 [==============================] - 3s 1ms/step - loss: 0.4094 - accuracy: 0.8804 - val_loss: 0.5005 - val_accuracy: 0.8545\n",
      "Epoch 15/30\n",
      "2094/2094 [==============================] - 3s 1ms/step - loss: 0.4054 - accuracy: 0.8831 - val_loss: 0.5015 - val_accuracy: 0.8540\n",
      "Epoch 16/30\n",
      "2094/2094 [==============================] - 4s 2ms/step - loss: 0.3854 - accuracy: 0.8885 - val_loss: 0.4963 - val_accuracy: 0.8549\n",
      "Epoch 17/30\n",
      "2094/2094 [==============================] - 3s 2ms/step - loss: 0.3814 - accuracy: 0.8892 - val_loss: 0.4927 - val_accuracy: 0.8556\n",
      "Epoch 18/30\n",
      "2094/2094 [==============================] - 4s 2ms/step - loss: 0.3720 - accuracy: 0.8919 - val_loss: 0.4931 - val_accuracy: 0.8561\n",
      "Epoch 19/30\n",
      "2094/2094 [==============================] - 3s 2ms/step - loss: 0.3577 - accuracy: 0.8947 - val_loss: 0.4940 - val_accuracy: 0.8568\n",
      "Epoch 20/30\n",
      "2094/2094 [==============================] - 3s 1ms/step - loss: 0.3471 - accuracy: 0.8995 - val_loss: 0.4945 - val_accuracy: 0.8563\n",
      "Epoch 21/30\n",
      "2094/2094 [==============================] - 3s 1ms/step - loss: 0.3418 - accuracy: 0.9025 - val_loss: 0.4967 - val_accuracy: 0.8574\n",
      "Epoch 22/30\n",
      "2094/2094 [==============================] - 3s 1ms/step - loss: 0.3385 - accuracy: 0.9022 - val_loss: 0.4902 - val_accuracy: 0.8573\n",
      "Epoch 23/30\n",
      "2094/2094 [==============================] - 3s 2ms/step - loss: 0.3227 - accuracy: 0.9079 - val_loss: 0.5137 - val_accuracy: 0.8529\n",
      "Epoch 24/30\n",
      "2094/2094 [==============================] - 3s 1ms/step - loss: 0.3171 - accuracy: 0.9079 - val_loss: 0.5036 - val_accuracy: 0.8566\n",
      "Epoch 25/30\n",
      "2094/2094 [==============================] - 3s 1ms/step - loss: 0.2999 - accuracy: 0.9140 - val_loss: 0.4958 - val_accuracy: 0.8572\n",
      "Epoch 26/30\n",
      "2094/2094 [==============================] - 3s 1ms/step - loss: 0.3043 - accuracy: 0.9126 - val_loss: 0.4981 - val_accuracy: 0.8579\n",
      "Epoch 27/30\n",
      "2094/2094 [==============================] - 3s 1ms/step - loss: 0.2987 - accuracy: 0.9143 - val_loss: 0.5098 - val_accuracy: 0.8543\n",
      "Epoch 28/30\n",
      "2094/2094 [==============================] - 3s 2ms/step - loss: 0.2897 - accuracy: 0.9169 - val_loss: 0.5017 - val_accuracy: 0.8581\n",
      "Epoch 29/30\n",
      "2094/2094 [==============================] - 3s 2ms/step - loss: 0.2785 - accuracy: 0.9198 - val_loss: 0.5049 - val_accuracy: 0.8592\n",
      "Epoch 30/30\n",
      "2094/2094 [==============================] - 3s 1ms/step - loss: 0.2725 - accuracy: 0.9215 - val_loss: 0.5101 - val_accuracy: 0.8579\n"
     ]
    }
   ],
   "source": [
    "model = create_model()\n",
    "model_test = model.fit(X_train, \n",
    "          y_train, \n",
    "          validation_data=(X_test, y_test),\n",
    "          epochs=30)"
   ]
  },
  {
   "cell_type": "markdown",
   "metadata": {
    "colab_type": "text",
    "id": "f0pCkh8C7eGL"
   },
   "source": [
    "### Experiment with Batch Size\n",
    "* Run 5 experiments with various batch sizes of your choice. \n",
    "* Visualize the results\n",
    "* Write up an analysis of the experiments and select the \"best\" performing model among your experiments. Make sure to compare against your model's performance yesterday. "
   ]
  },
  {
   "cell_type": "code",
   "execution_count": 53,
   "metadata": {
    "colab": {},
    "colab_type": "code",
    "id": "USXjs7Hk71Hy"
   },
   "outputs": [
    {
     "name": "stdout",
     "output_type": "stream",
     "text": [
      "Epoch 1/10\n",
      "134/134 [==============================] - 1s 5ms/step - loss: 2.2614 - accuracy: 0.1814 - val_loss: 1.9663 - val_accuracy: 0.4121\n",
      "Epoch 2/10\n",
      "134/134 [==============================] - 1s 4ms/step - loss: 1.8617 - accuracy: 0.4537 - val_loss: 1.5634 - val_accuracy: 0.5472\n",
      "Epoch 3/10\n",
      "134/134 [==============================] - 1s 5ms/step - loss: 1.4871 - accuracy: 0.5660 - val_loss: 1.3087 - val_accuracy: 0.6146\n",
      "Epoch 4/10\n",
      "134/134 [==============================] - 1s 4ms/step - loss: 1.2706 - accuracy: 0.6240 - val_loss: 1.1711 - val_accuracy: 0.6508\n",
      "Epoch 5/10\n",
      "134/134 [==============================] - 1s 4ms/step - loss: 1.1480 - accuracy: 0.6581 - val_loss: 1.0845 - val_accuracy: 0.6738\n",
      "Epoch 6/10\n",
      "134/134 [==============================] - 1s 4ms/step - loss: 1.0679 - accuracy: 0.6810 - val_loss: 1.0249 - val_accuracy: 0.6948\n",
      "Epoch 7/10\n",
      "134/134 [==============================] - 1s 5ms/step - loss: 1.0162 - accuracy: 0.6965 - val_loss: 0.9815 - val_accuracy: 0.7083\n",
      "Epoch 8/10\n",
      "134/134 [==============================] - 1s 4ms/step - loss: 0.9768 - accuracy: 0.7096 - val_loss: 0.9481 - val_accuracy: 0.7192\n",
      "Epoch 9/10\n",
      "134/134 [==============================] - 1s 5ms/step - loss: 0.9392 - accuracy: 0.7224 - val_loss: 0.9225 - val_accuracy: 0.7275\n",
      "Epoch 10/10\n",
      "134/134 [==============================] - 1s 4ms/step - loss: 0.9215 - accuracy: 0.7289 - val_loss: 0.9014 - val_accuracy: 0.7354\n"
     ]
    }
   ],
   "source": [
    "# BIG\n",
    "model = create_model()\n",
    "bt_large = model.fit(X_train, \n",
    "          y_train, \n",
    "          validation_data=(X_test, y_test), \n",
    "           batch_size=500, \n",
    "          epochs=10)"
   ]
  },
  {
   "cell_type": "code",
   "execution_count": 56,
   "metadata": {
    "scrolled": true
   },
   "outputs": [
    {
     "name": "stdout",
     "output_type": "stream",
     "text": [
      "Epoch 1/10\n",
      "268/268 [==============================] - 1s 4ms/step - loss: 2.1044 - accuracy: 0.2673 - val_loss: 1.4790 - val_accuracy: 0.5548\n",
      "Epoch 2/10\n",
      "268/268 [==============================] - 1s 3ms/step - loss: 1.3749 - accuracy: 0.5838 - val_loss: 1.1621 - val_accuracy: 0.6506\n",
      "Epoch 3/10\n",
      "268/268 [==============================] - 1s 3ms/step - loss: 1.1224 - accuracy: 0.6661 - val_loss: 1.0253 - val_accuracy: 0.6955\n",
      "Epoch 4/10\n",
      "268/268 [==============================] - 1s 3ms/step - loss: 0.9988 - accuracy: 0.7076 - val_loss: 0.9507 - val_accuracy: 0.7198\n",
      "Epoch 5/10\n",
      "268/268 [==============================] - 1s 3ms/step - loss: 0.9339 - accuracy: 0.7272 - val_loss: 0.9056 - val_accuracy: 0.7318\n",
      "Epoch 6/10\n",
      "268/268 [==============================] - 1s 3ms/step - loss: 0.8991 - accuracy: 0.7376 - val_loss: 0.8749 - val_accuracy: 0.7431\n",
      "Epoch 7/10\n",
      "268/268 [==============================] - 1s 3ms/step - loss: 0.8720 - accuracy: 0.7479 - val_loss: 0.8514 - val_accuracy: 0.7489\n",
      "Epoch 8/10\n",
      "268/268 [==============================] - 1s 3ms/step - loss: 0.8418 - accuracy: 0.7554 - val_loss: 0.8311 - val_accuracy: 0.7578\n",
      "Epoch 9/10\n",
      "268/268 [==============================] - 1s 3ms/step - loss: 0.8216 - accuracy: 0.7615 - val_loss: 0.8165 - val_accuracy: 0.7622\n",
      "Epoch 10/10\n",
      "268/268 [==============================] - 1s 3ms/step - loss: 0.8095 - accuracy: 0.7661 - val_loss: 0.8009 - val_accuracy: 0.7649\n"
     ]
    }
   ],
   "source": [
    "# Medium\n",
    "model = create_model()\n",
    "bt_med = model.fit(X_train, \n",
    "          y_train, \n",
    "          validation_data=(X_test, y_test), \n",
    "           batch_size=250, \n",
    "          epochs=10)"
   ]
  },
  {
   "cell_type": "code",
   "execution_count": 57,
   "metadata": {},
   "outputs": [
    {
     "name": "stdout",
     "output_type": "stream",
     "text": [
      "Epoch 1/10\n",
      "67000/67000 [==============================] - 71s 1ms/step - loss: 0.8528 - accuracy: 0.7302 - val_loss: 0.5652 - val_accuracy: 0.8273\n",
      "Epoch 2/10\n",
      "67000/67000 [==============================] - 68s 1ms/step - loss: 0.5277 - accuracy: 0.8377 - val_loss: 0.5208 - val_accuracy: 0.8422\n",
      "Epoch 3/10\n",
      "67000/67000 [==============================] - 72s 1ms/step - loss: 0.4679 - accuracy: 0.8567 - val_loss: 0.5207 - val_accuracy: 0.8400\n",
      "Epoch 4/10\n",
      "67000/67000 [==============================] - 68s 1ms/step - loss: 0.4158 - accuracy: 0.8730 - val_loss: 0.5081 - val_accuracy: 0.8488\n",
      "Epoch 5/10\n",
      "67000/67000 [==============================] - 74s 1ms/step - loss: 0.3938 - accuracy: 0.8791 - val_loss: 0.5054 - val_accuracy: 0.8514\n",
      "Epoch 6/10\n",
      "67000/67000 [==============================] - 70s 1ms/step - loss: 0.3616 - accuracy: 0.8889 - val_loss: 0.5101 - val_accuracy: 0.8528\n",
      "Epoch 7/10\n",
      "67000/67000 [==============================] - 76s 1ms/step - loss: 0.3399 - accuracy: 0.8953 - val_loss: 0.5224 - val_accuracy: 0.8533\n",
      "Epoch 8/10\n",
      "67000/67000 [==============================] - 68s 1ms/step - loss: 0.3241 - accuracy: 0.8990 - val_loss: 0.5228 - val_accuracy: 0.8507\n",
      "Epoch 9/10\n",
      "67000/67000 [==============================] - 75s 1ms/step - loss: 0.3141 - accuracy: 0.9032 - val_loss: 0.5231 - val_accuracy: 0.8510\n",
      "Epoch 10/10\n",
      "67000/67000 [==============================] - 70s 1ms/step - loss: 0.3016 - accuracy: 0.9051 - val_loss: 0.5542 - val_accuracy: 0.8528\n"
     ]
    }
   ],
   "source": [
    "# Tiny\n",
    "model = create_model()\n",
    "bt_tiny = model.fit(X_train, \n",
    "          y_train, \n",
    "          validation_data=(X_test, y_test), \n",
    "           batch_size=1, \n",
    "          epochs=10)"
   ]
  },
  {
   "cell_type": "code",
   "execution_count": 58,
   "metadata": {},
   "outputs": [
    {
     "name": "stdout",
     "output_type": "stream",
     "text": [
      "Epoch 1/10\n",
      "6700/6700 [==============================] - 11s 2ms/step - loss: 1.1665 - accuracy: 0.6314 - val_loss: 0.6807 - val_accuracy: 0.7975\n",
      "Epoch 2/10\n",
      "6700/6700 [==============================] - 8s 1ms/step - loss: 0.6405 - accuracy: 0.8152 - val_loss: 0.5745 - val_accuracy: 0.8290\n",
      "Epoch 3/10\n",
      "6700/6700 [==============================] - 9s 1ms/step - loss: 0.5365 - accuracy: 0.8421 - val_loss: 0.5237 - val_accuracy: 0.8458\n",
      "Epoch 4/10\n",
      "6700/6700 [==============================] - 8s 1ms/step - loss: 0.4822 - accuracy: 0.8578 - val_loss: 0.5055 - val_accuracy: 0.8497\n",
      "Epoch 5/10\n",
      "6700/6700 [==============================] - 8s 1ms/step - loss: 0.4400 - accuracy: 0.8680 - val_loss: 0.4877 - val_accuracy: 0.8559\n",
      "Epoch 6/10\n",
      "6700/6700 [==============================] - 8s 1ms/step - loss: 0.4081 - accuracy: 0.8806 - val_loss: 0.4860 - val_accuracy: 0.8574\n",
      "Epoch 7/10\n",
      "6700/6700 [==============================] - 8s 1ms/step - loss: 0.3839 - accuracy: 0.8852 - val_loss: 0.4883 - val_accuracy: 0.8548\n",
      "Epoch 8/10\n",
      "6700/6700 [==============================] - 8s 1ms/step - loss: 0.3664 - accuracy: 0.8926 - val_loss: 0.4784 - val_accuracy: 0.8619\n",
      "Epoch 9/10\n",
      "6700/6700 [==============================] - 8s 1ms/step - loss: 0.3457 - accuracy: 0.8970 - val_loss: 0.4749 - val_accuracy: 0.8617\n",
      "Epoch 10/10\n",
      "6700/6700 [==============================] - 8s 1ms/step - loss: 0.3258 - accuracy: 0.9047 - val_loss: 0.4864 - val_accuracy: 0.8593\n"
     ]
    }
   ],
   "source": [
    "# Small\n",
    "model = create_model()\n",
    "bt_small = model.fit(X_train, \n",
    "          y_train, \n",
    "          validation_data=(X_test, y_test), \n",
    "           batch_size=10, \n",
    "          epochs=10)"
   ]
  },
  {
   "cell_type": "code",
   "execution_count": 61,
   "metadata": {},
   "outputs": [
    {
     "name": "stdout",
     "output_type": "stream",
     "text": [
      "Epoch 1/10\n",
      "536/536 [==============================] - 2s 3ms/step - loss: 1.9497 - accuracy: 0.3593 - val_loss: 1.1911 - val_accuracy: 0.6371\n",
      "Epoch 2/10\n",
      "536/536 [==============================] - 1s 3ms/step - loss: 1.1187 - accuracy: 0.6614 - val_loss: 0.9582 - val_accuracy: 0.7107\n",
      "Epoch 3/10\n",
      "536/536 [==============================] - 1s 2ms/step - loss: 0.9322 - accuracy: 0.7249 - val_loss: 0.8742 - val_accuracy: 0.7390\n",
      "Epoch 4/10\n",
      "536/536 [==============================] - 1s 2ms/step - loss: 0.8596 - accuracy: 0.7474 - val_loss: 0.8262 - val_accuracy: 0.7546\n",
      "Epoch 5/10\n",
      "536/536 [==============================] - 1s 3ms/step - loss: 0.8161 - accuracy: 0.7596 - val_loss: 0.7921 - val_accuracy: 0.7664\n",
      "Epoch 6/10\n",
      "536/536 [==============================] - 1s 2ms/step - loss: 0.7841 - accuracy: 0.7712 - val_loss: 0.7665 - val_accuracy: 0.7747\n",
      "Epoch 7/10\n",
      "536/536 [==============================] - 1s 2ms/step - loss: 0.7466 - accuracy: 0.7823 - val_loss: 0.7440 - val_accuracy: 0.7796\n",
      "Epoch 8/10\n",
      "536/536 [==============================] - 1s 2ms/step - loss: 0.7248 - accuracy: 0.7897 - val_loss: 0.7250 - val_accuracy: 0.7856\n",
      "Epoch 9/10\n",
      "536/536 [==============================] - 1s 2ms/step - loss: 0.6987 - accuracy: 0.7986 - val_loss: 0.7068 - val_accuracy: 0.7928\n",
      "Epoch 10/10\n",
      "536/536 [==============================] - 1s 2ms/step - loss: 0.6842 - accuracy: 0.8011 - val_loss: 0.6949 - val_accuracy: 0.7968\n"
     ]
    }
   ],
   "source": [
    "# Little Bigger than Small\n",
    "model = create_model()\n",
    "bt_3 = model.fit(X_train, \n",
    "          y_train, \n",
    "          validation_data=(X_test, y_test), \n",
    "           batch_size=125, \n",
    "          epochs=10)"
   ]
  },
  {
   "cell_type": "code",
   "execution_count": 64,
   "metadata": {},
   "outputs": [
    {
     "name": "stdout",
     "output_type": "stream",
     "text": [
      "Epoch 1/10\n",
      "2094/2094 [==============================] - 3s 2ms/step - loss: 1.4579 - accuracy: 0.5283 - val_loss: 0.8576 - val_accuracy: 0.7479\n",
      "Epoch 2/10\n",
      "2094/2094 [==============================] - 3s 1ms/step - loss: 0.8214 - accuracy: 0.7617 - val_loss: 0.7447 - val_accuracy: 0.7798\n",
      "Epoch 3/10\n",
      "2094/2094 [==============================] - 3s 1ms/step - loss: 0.7162 - accuracy: 0.7938 - val_loss: 0.6860 - val_accuracy: 0.8008\n",
      "Epoch 4/10\n",
      "2094/2094 [==============================] - 3s 1ms/step - loss: 0.6494 - accuracy: 0.8132 - val_loss: 0.6325 - val_accuracy: 0.8140\n",
      "Epoch 5/10\n",
      "2094/2094 [==============================] - 3s 1ms/step - loss: 0.6003 - accuracy: 0.8244 - val_loss: 0.6150 - val_accuracy: 0.8183\n",
      "Epoch 6/10\n",
      "2094/2094 [==============================] - 3s 1ms/step - loss: 0.5634 - accuracy: 0.8359 - val_loss: 0.5772 - val_accuracy: 0.8288\n",
      "Epoch 7/10\n",
      "2094/2094 [==============================] - 3s 1ms/step - loss: 0.5363 - accuracy: 0.8441 - val_loss: 0.5601 - val_accuracy: 0.8344\n",
      "Epoch 8/10\n",
      "2094/2094 [==============================] - 3s 2ms/step - loss: 0.5051 - accuracy: 0.8546 - val_loss: 0.5408 - val_accuracy: 0.8419\n",
      "Epoch 9/10\n",
      "2094/2094 [==============================] - 3s 2ms/step - loss: 0.4874 - accuracy: 0.8586 - val_loss: 0.5292 - val_accuracy: 0.8442\n",
      "Epoch 10/10\n",
      "2094/2094 [==============================] - 3s 1ms/step - loss: 0.4721 - accuracy: 0.8638 - val_loss: 0.5201 - val_accuracy: 0.8482\n"
     ]
    }
   ],
   "source": [
    "model = create_model()\n",
    "bt_default = model.fit(X_train,\n",
    "        y_train,\n",
    "        validation_data=(X_test, y_test),\n",
    "        epochs=10)"
   ]
  },
  {
   "cell_type": "code",
   "execution_count": 66,
   "metadata": {},
   "outputs": [
    {
     "data": {
      "text/html": [
       "<div>\n",
       "<style scoped>\n",
       "    .dataframe tbody tr th:only-of-type {\n",
       "        vertical-align: middle;\n",
       "    }\n",
       "\n",
       "    .dataframe tbody tr th {\n",
       "        vertical-align: top;\n",
       "    }\n",
       "\n",
       "    .dataframe thead th {\n",
       "        text-align: right;\n",
       "    }\n",
       "</style>\n",
       "<table border=\"1\" class=\"dataframe\">\n",
       "  <thead>\n",
       "    <tr style=\"text-align: right;\">\n",
       "      <th></th>\n",
       "      <th>loss</th>\n",
       "      <th>accuracy</th>\n",
       "      <th>val_loss</th>\n",
       "      <th>val_accuracy</th>\n",
       "      <th>epoch</th>\n",
       "      <th>Batch Size</th>\n",
       "    </tr>\n",
       "  </thead>\n",
       "  <tbody>\n",
       "    <tr>\n",
       "      <th>0</th>\n",
       "      <td>1.902973</td>\n",
       "      <td>0.354537</td>\n",
       "      <td>1.484429</td>\n",
       "      <td>0.558121</td>\n",
       "      <td>0</td>\n",
       "      <td>500_</td>\n",
       "    </tr>\n",
       "    <tr>\n",
       "      <th>1</th>\n",
       "      <td>1.278813</td>\n",
       "      <td>0.629896</td>\n",
       "      <td>1.139583</td>\n",
       "      <td>0.671909</td>\n",
       "      <td>1</td>\n",
       "      <td>500_</td>\n",
       "    </tr>\n",
       "    <tr>\n",
       "      <th>2</th>\n",
       "      <td>1.067576</td>\n",
       "      <td>0.694731</td>\n",
       "      <td>1.011724</td>\n",
       "      <td>0.706091</td>\n",
       "      <td>2</td>\n",
       "      <td>500_</td>\n",
       "    </tr>\n",
       "    <tr>\n",
       "      <th>3</th>\n",
       "      <td>0.975016</td>\n",
       "      <td>0.719478</td>\n",
       "      <td>0.945377</td>\n",
       "      <td>0.723576</td>\n",
       "      <td>3</td>\n",
       "      <td>500_</td>\n",
       "    </tr>\n",
       "    <tr>\n",
       "      <th>4</th>\n",
       "      <td>0.922648</td>\n",
       "      <td>0.734090</td>\n",
       "      <td>0.904236</td>\n",
       "      <td>0.736818</td>\n",
       "      <td>4</td>\n",
       "      <td>500_</td>\n",
       "    </tr>\n",
       "  </tbody>\n",
       "</table>\n",
       "</div>"
      ],
      "text/plain": [
       "       loss  accuracy  val_loss  val_accuracy  epoch Batch Size\n",
       "0  1.902973  0.354537  1.484429      0.558121      0       500_\n",
       "1  1.278813  0.629896  1.139583      0.671909      1       500_\n",
       "2  1.067576  0.694731  1.011724      0.706091      2       500_\n",
       "3  0.975016  0.719478  0.945377      0.723576      3       500_\n",
       "4  0.922648  0.734090  0.904236      0.736818      4       500_"
      ]
     },
     "execution_count": 66,
     "metadata": {},
     "output_type": "execute_result"
    }
   ],
   "source": [
    "batch_sizes = []\n",
    "\n",
    "for exp, result in zip([bt_large, bt_med, bt_default, bt_3, bt_small, bt_tiny], [\"500_\", \"250_\", \"125_\",\"32_\", \"8_\", \"1_\" ]):\n",
    "\n",
    "    df = pd.DataFrame.from_dict(exp.history)\n",
    "    df['epoch'] = df.index.values\n",
    "    df['Batch Size'] = result\n",
    "\n",
    "    batch_sizes.append(df)\n",
    "\n",
    "df = pd.concat(batch_sizes)\n",
    "df['Batch Size'] = df['Batch Size'].astype('str')\n",
    "df.head()"
   ]
  },
  {
   "cell_type": "code",
   "execution_count": 68,
   "metadata": {},
   "outputs": [
    {
     "data": {
      "image/png": "[encoded data removed]",
      "text/plain": [
       "<Figure size 432x288 with 1 Axes>"
      ]
     },
     "metadata": {
      "needs_background": "light"
     },
     "output_type": "display_data"
    }
   ],
   "source": [
    "\n",
    "sns.lineplot(x='epoch', y='val_accuracy', hue='Batch Size', data=df);"
   ]
  },
  {
   "cell_type": "code",
   "execution_count": 69,
   "metadata": {},
   "outputs": [
    {
     "data": {
      "image/png": "[encoded data removed]",
      "text/plain": [
       "<Figure size 432x288 with 1 Axes>"
      ]
     },
     "metadata": {
      "needs_background": "light"
     },
     "output_type": "display_data"
    }
   ],
   "source": [
    "\n",
    "sns.lineplot(x='epoch', y='val_loss', hue='Batch Size', data=df);"
   ]
  },
  {
   "cell_type": "markdown",
   "metadata": {},
   "source": [
    "A batch size of 1 had instantly the best accuracy score but it took FOREVER to run. The batch size of 10 ran much faster and actually had a better model. The larger batch sizes were not as good however."
   ]
  },
  {
   "cell_type": "markdown",
   "metadata": {
    "colab_type": "text",
    "id": "8b-r70o8p2Dm"
   },
   "source": [
    "### Experiment with Learning Rate\n",
    "* Run 5 experiments with various learning rate magnitudes: 1, .1, .01, .001, .0001.\n",
    "* Use the \"best\" batch size from the previous experiment\n",
    "* Visualize the results\n",
    "* Write up an analysis of the experiments and select the \"best\" performing model among your experiments. Make sure to compare against the previous experiments and your model's performance yesterday. "
   ]
  },
  {
   "cell_type": "code",
   "execution_count": 71,
   "metadata": {
    "colab": {},
    "colab_type": "code",
    "id": "_SA144xx8Luf"
   },
   "outputs": [
    {
     "name": "stdout",
     "output_type": "stream",
     "text": [
      "Epoch 1/10\n",
      "2094/2094 [==============================] - 3s 1ms/step - loss: 0.4518 - accuracy: 0.8694 - val_loss: 0.5140 - val_accuracy: 0.8494\n",
      "Epoch 2/10\n",
      "2094/2094 [==============================] - 3s 2ms/step - loss: 0.4373 - accuracy: 0.8748 - val_loss: 0.5026 - val_accuracy: 0.8530\n",
      "Epoch 3/10\n",
      "2094/2094 [==============================] - 3s 2ms/step - loss: 0.4240 - accuracy: 0.8768 - val_loss: 0.4945 - val_accuracy: 0.8553\n",
      "Epoch 4/10\n",
      "2094/2094 [==============================] - 3s 1ms/step - loss: 0.4101 - accuracy: 0.8818 - val_loss: 0.4953 - val_accuracy: 0.85470s - loss: 0.410\n",
      "Epoch 5/10\n",
      "2094/2094 [==============================] - 3s 1ms/step - loss: 0.3976 - accuracy: 0.8855 - val_loss: 0.4966 - val_accuracy: 0.8548\n",
      "Epoch 6/10\n",
      "2094/2094 [==============================] - 4s 2ms/step - loss: 0.3868 - accuracy: 0.8881 - val_loss: 0.4841 - val_accuracy: 0.8573\n",
      "Epoch 7/10\n",
      "2094/2094 [==============================] - 3s 2ms/step - loss: 0.3766 - accuracy: 0.8911 - val_loss: 0.4900 - val_accuracy: 0.8582\n",
      "Epoch 8/10\n",
      "2094/2094 [==============================] - 3s 2ms/step - loss: 0.3663 - accuracy: 0.8938 - val_loss: 0.4810 - val_accuracy: 0.8606\n",
      "Epoch 9/10\n",
      "2094/2094 [==============================] - 3s 1ms/step - loss: 0.3571 - accuracy: 0.8974 - val_loss: 0.4943 - val_accuracy: 0.8553\n",
      "Epoch 10/10\n",
      "2094/2094 [==============================] - 3s 1ms/step - loss: 0.3486 - accuracy: 0.8997 - val_loss: 0.4811 - val_accuracy: 0.8599\n"
     ]
    }
   ],
   "source": [
    "model_1 = create_model(lr=1)\n",
    "m_1 = model.fit(X_train,\n",
    "        y_train,\n",
    "        validation_data=(X_test, y_test),\n",
    "        epochs=10)"
   ]
  },
  {
   "cell_type": "code",
   "execution_count": 73,
   "metadata": {},
   "outputs": [
    {
     "name": "stdout",
     "output_type": "stream",
     "text": [
      "Epoch 1/10\n",
      "2094/2094 [==============================] - 3s 2ms/step - loss: 0.3404 - accuracy: 0.9017 - val_loss: 0.4810 - val_accuracy: 0.8615\n",
      "Epoch 2/10\n",
      "2094/2094 [==============================] - 3s 2ms/step - loss: 0.3319 - accuracy: 0.9061 - val_loss: 0.4886 - val_accuracy: 0.8579\n",
      "Epoch 3/10\n",
      "2094/2094 [==============================] - 3s 1ms/step - loss: 0.3245 - accuracy: 0.9069 - val_loss: 0.4883 - val_accuracy: 0.8606\n",
      "Epoch 4/10\n",
      "2094/2094 [==============================] - 3s 2ms/step - loss: 0.3170 - accuracy: 0.9084 - val_loss: 0.4951 - val_accuracy: 0.8589\n",
      "Epoch 5/10\n",
      "2094/2094 [==============================] - 3s 2ms/step - loss: 0.3095 - accuracy: 0.9108 - val_loss: 0.5004 - val_accuracy: 0.8579\n",
      "Epoch 6/10\n",
      "2094/2094 [==============================] - 3s 2ms/step - loss: 0.3030 - accuracy: 0.9123 - val_loss: 0.4877 - val_accuracy: 0.8598\n",
      "Epoch 7/10\n",
      "2094/2094 [==============================] - 4s 2ms/step - loss: 0.2961 - accuracy: 0.9143 - val_loss: 0.5024 - val_accuracy: 0.8569\n",
      "Epoch 8/10\n",
      "2094/2094 [==============================] - 3s 2ms/step - loss: 0.2905 - accuracy: 0.9168 - val_loss: 0.5005 - val_accuracy: 0.8583\n",
      "Epoch 9/10\n",
      "2094/2094 [==============================] - 3s 1ms/step - loss: 0.2836 - accuracy: 0.9185 - val_loss: 0.5069 - val_accuracy: 0.8587\n",
      "Epoch 10/10\n",
      "2094/2094 [==============================] - 3s 1ms/step - loss: 0.2777 - accuracy: 0.9204 - val_loss: 0.5004 - val_accuracy: 0.8612\n"
     ]
    }
   ],
   "source": [
    "model_2 = create_model(lr=.1)\n",
    "m_2 = model.fit(X_train,\n",
    "        y_train,\n",
    "        validation_data=(X_test, y_test),\n",
    "        epochs=10)"
   ]
  },
  {
   "cell_type": "code",
   "execution_count": 74,
   "metadata": {},
   "outputs": [
    {
     "name": "stdout",
     "output_type": "stream",
     "text": [
      "Epoch 1/10\n",
      "2094/2094 [==============================] - 4s 2ms/step - loss: 0.2715 - accuracy: 0.9221 - val_loss: 0.5085 - val_accuracy: 0.8591\n",
      "Epoch 2/10\n",
      "2094/2094 [==============================] - 3s 1ms/step - loss: 0.2661 - accuracy: 0.9241 - val_loss: 0.5094 - val_accuracy: 0.8586\n",
      "Epoch 3/10\n",
      "2094/2094 [==============================] - 3s 1ms/step - loss: 0.2599 - accuracy: 0.9259 - val_loss: 0.5108 - val_accuracy: 0.8592\n",
      "Epoch 4/10\n",
      "2094/2094 [==============================] - 3s 1ms/step - loss: 0.2551 - accuracy: 0.9273 - val_loss: 0.5138 - val_accuracy: 0.8600\n",
      "Epoch 5/10\n",
      "2094/2094 [==============================] - 3s 1ms/step - loss: 0.2495 - accuracy: 0.9288 - val_loss: 0.5235 - val_accuracy: 0.8580\n",
      "Epoch 6/10\n",
      "2094/2094 [==============================] - 3s 2ms/step - loss: 0.2435 - accuracy: 0.9308 - val_loss: 0.5322 - val_accuracy: 0.8572\n",
      "Epoch 7/10\n",
      "2094/2094 [==============================] - 3s 1ms/step - loss: 0.2390 - accuracy: 0.9313 - val_loss: 0.5306 - val_accuracy: 0.8568\n",
      "Epoch 8/10\n",
      "2094/2094 [==============================] - 3s 1ms/step - loss: 0.2341 - accuracy: 0.9324 - val_loss: 0.5412 - val_accuracy: 0.8563\n",
      "Epoch 9/10\n",
      "2094/2094 [==============================] - 3s 1ms/step - loss: 0.2293 - accuracy: 0.9350 - val_loss: 0.5525 - val_accuracy: 0.8532\n",
      "Epoch 10/10\n",
      "2094/2094 [==============================] - 3s 1ms/step - loss: 0.2241 - accuracy: 0.9365 - val_loss: 0.5456 - val_accuracy: 0.8545\n"
     ]
    }
   ],
   "source": [
    "model_3 = create_model(lr=.01)\n",
    "m_3 = model.fit(X_train,\n",
    "        y_train,\n",
    "        validation_data=(X_test, y_test),\n",
    "        epochs=10)"
   ]
  },
  {
   "cell_type": "code",
   "execution_count": 75,
   "metadata": {},
   "outputs": [
    {
     "name": "stdout",
     "output_type": "stream",
     "text": [
      "Epoch 1/10\n",
      "2094/2094 [==============================] - 3s 2ms/step - loss: 0.2205 - accuracy: 0.9374 - val_loss: 0.5505 - val_accuracy: 0.8573\n",
      "Epoch 2/10\n",
      "2094/2094 [==============================] - 3s 1ms/step - loss: 0.2152 - accuracy: 0.9395 - val_loss: 0.5560 - val_accuracy: 0.8545\n",
      "Epoch 3/10\n",
      "2094/2094 [==============================] - 3s 2ms/step - loss: 0.2106 - accuracy: 0.9402 - val_loss: 0.5680 - val_accuracy: 0.8535\n",
      "Epoch 4/10\n",
      "2094/2094 [==============================] - 3s 1ms/step - loss: 0.2062 - accuracy: 0.9414 - val_loss: 0.5700 - val_accuracy: 0.8555\n",
      "Epoch 5/10\n",
      "2094/2094 [==============================] - 3s 1ms/step - loss: 0.2017 - accuracy: 0.9428 - val_loss: 0.5806 - val_accuracy: 0.8505\n",
      "Epoch 6/10\n",
      "2094/2094 [==============================] - 3s 2ms/step - loss: 0.1974 - accuracy: 0.9440 - val_loss: 0.5862 - val_accuracy: 0.8511\n",
      "Epoch 7/10\n",
      "2094/2094 [==============================] - 3s 2ms/step - loss: 0.1936 - accuracy: 0.9454 - val_loss: 0.5930 - val_accuracy: 0.8528\n",
      "Epoch 8/10\n",
      "2094/2094 [==============================] - 3s 1ms/step - loss: 0.1893 - accuracy: 0.9467 - val_loss: 0.5973 - val_accuracy: 0.8518\n",
      "Epoch 9/10\n",
      "2094/2094 [==============================] - 3s 2ms/step - loss: 0.1851 - accuracy: 0.9477 - val_loss: 0.6264 - val_accuracy: 0.8458\n",
      "Epoch 10/10\n",
      "2094/2094 [==============================] - 3s 2ms/step - loss: 0.1815 - accuracy: 0.9491 - val_loss: 0.6146 - val_accuracy: 0.8514\n"
     ]
    }
   ],
   "source": [
    "model_4 = create_model(lr=.001)\n",
    "m_4 = model.fit(X_train,\n",
    "        y_train,\n",
    "        validation_data=(X_test, y_test),\n",
    "        epochs=10)"
   ]
  },
  {
   "cell_type": "code",
   "execution_count": 76,
   "metadata": {},
   "outputs": [
    {
     "name": "stdout",
     "output_type": "stream",
     "text": [
      "Epoch 1/10\n",
      "2094/2094 [==============================] - 3s 2ms/step - loss: 0.1771 - accuracy: 0.9502 - val_loss: 0.6527 - val_accuracy: 0.8449\n",
      "Epoch 2/10\n",
      "2094/2094 [==============================] - 3s 2ms/step - loss: 0.1738 - accuracy: 0.9509 - val_loss: 0.6339 - val_accuracy: 0.8488\n",
      "Epoch 3/10\n",
      "2094/2094 [==============================] - 3s 2ms/step - loss: 0.1702 - accuracy: 0.9528 - val_loss: 0.6346 - val_accuracy: 0.8497\n",
      "Epoch 4/10\n",
      "2094/2094 [==============================] - 3s 1ms/step - loss: 0.1663 - accuracy: 0.9540 - val_loss: 0.6399 - val_accuracy: 0.8489\n",
      "Epoch 5/10\n",
      "2094/2094 [==============================] - 3s 2ms/step - loss: 0.1629 - accuracy: 0.9540 - val_loss: 0.6500 - val_accuracy: 0.8493\n",
      "Epoch 6/10\n",
      "2094/2094 [==============================] - 3s 1ms/step - loss: 0.1594 - accuracy: 0.9556 - val_loss: 0.6637 - val_accuracy: 0.8454\n",
      "Epoch 7/10\n",
      "2094/2094 [==============================] - 3s 2ms/step - loss: 0.1563 - accuracy: 0.9565 - val_loss: 0.6622 - val_accuracy: 0.8497\n",
      "Epoch 8/10\n",
      "2094/2094 [==============================] - 4s 2ms/step - loss: 0.1526 - accuracy: 0.9575 - val_loss: 0.6670 - val_accuracy: 0.8495\n",
      "Epoch 9/10\n",
      "2094/2094 [==============================] - 4s 2ms/step - loss: 0.1494 - accuracy: 0.9586 - val_loss: 0.6803 - val_accuracy: 0.8471\n",
      "Epoch 10/10\n",
      "2094/2094 [==============================] - 3s 2ms/step - loss: 0.1459 - accuracy: 0.9595 - val_loss: 0.6844 - val_accuracy: 0.8456\n"
     ]
    }
   ],
   "source": [
    "model_5 = create_model(lr=.0001)\n",
    "m_5 = model.fit(X_train,\n",
    "        y_train,\n",
    "        validation_data=(X_test, y_test),\n",
    "        epochs=10)"
   ]
  },
  {
   "cell_type": "code",
   "execution_count": 82,
   "metadata": {},
   "outputs": [
    {
     "data": {
      "text/html": [
       "<div>\n",
       "<style scoped>\n",
       "    .dataframe tbody tr th:only-of-type {\n",
       "        vertical-align: middle;\n",
       "    }\n",
       "\n",
       "    .dataframe tbody tr th {\n",
       "        vertical-align: top;\n",
       "    }\n",
       "\n",
       "    .dataframe thead th {\n",
       "        text-align: right;\n",
       "    }\n",
       "</style>\n",
       "<table border=\"1\" class=\"dataframe\">\n",
       "  <thead>\n",
       "    <tr style=\"text-align: right;\">\n",
       "      <th></th>\n",
       "      <th>loss</th>\n",
       "      <th>accuracy</th>\n",
       "      <th>val_loss</th>\n",
       "      <th>val_accuracy</th>\n",
       "      <th>epoch</th>\n",
       "      <th>Learning Rate</th>\n",
       "    </tr>\n",
       "  </thead>\n",
       "  <tbody>\n",
       "    <tr>\n",
       "      <th>0</th>\n",
       "      <td>0.451837</td>\n",
       "      <td>0.869403</td>\n",
       "      <td>0.514020</td>\n",
       "      <td>0.849394</td>\n",
       "      <td>0</td>\n",
       "      <td>1_</td>\n",
       "    </tr>\n",
       "    <tr>\n",
       "      <th>1</th>\n",
       "      <td>0.437254</td>\n",
       "      <td>0.874761</td>\n",
       "      <td>0.502602</td>\n",
       "      <td>0.853000</td>\n",
       "      <td>1</td>\n",
       "      <td>1_</td>\n",
       "    </tr>\n",
       "    <tr>\n",
       "      <th>2</th>\n",
       "      <td>0.423963</td>\n",
       "      <td>0.876806</td>\n",
       "      <td>0.494542</td>\n",
       "      <td>0.855273</td>\n",
       "      <td>2</td>\n",
       "      <td>1_</td>\n",
       "    </tr>\n",
       "    <tr>\n",
       "      <th>3</th>\n",
       "      <td>0.410089</td>\n",
       "      <td>0.881836</td>\n",
       "      <td>0.495258</td>\n",
       "      <td>0.854727</td>\n",
       "      <td>3</td>\n",
       "      <td>1_</td>\n",
       "    </tr>\n",
       "    <tr>\n",
       "      <th>4</th>\n",
       "      <td>0.397614</td>\n",
       "      <td>0.885537</td>\n",
       "      <td>0.496639</td>\n",
       "      <td>0.854818</td>\n",
       "      <td>4</td>\n",
       "      <td>1_</td>\n",
       "    </tr>\n",
       "  </tbody>\n",
       "</table>\n",
       "</div>"
      ],
      "text/plain": [
       "       loss  accuracy  val_loss  val_accuracy  epoch Learning Rate\n",
       "0  0.451837  0.869403  0.514020      0.849394      0            1_\n",
       "1  0.437254  0.874761  0.502602      0.853000      1            1_\n",
       "2  0.423963  0.876806  0.494542      0.855273      2            1_\n",
       "3  0.410089  0.881836  0.495258      0.854727      3            1_\n",
       "4  0.397614  0.885537  0.496639      0.854818      4            1_"
      ]
     },
     "execution_count": 82,
     "metadata": {},
     "output_type": "execute_result"
    }
   ],
   "source": [
    "rates = []\n",
    "\n",
    "for exp, result in zip([m_1, m_2, m_3, m_4, m_5], [\"1_\", \".1_\", \".01_\", \".001_\", \".0001_\"]):\n",
    "\n",
    "    df = pd.DataFrame.from_dict(exp.history)\n",
    "    df['epoch'] = df.index.values\n",
    "    df['Learning Rate'] = result\n",
    "\n",
    "    rates.append(df)\n",
    "\n",
    "df = pd.concat(rates)\n",
    "df['Learning Rate'] = df['Learning Rate'].astype('str')\n",
    "df.head()"
   ]
  },
  {
   "cell_type": "code",
   "execution_count": 84,
   "metadata": {},
   "outputs": [
    {
     "data": {
      "image/png": "[encoded data removed]",
      "text/plain": [
       "<Figure size 432x288 with 1 Axes>"
      ]
     },
     "metadata": {
      "needs_background": "light"
     },
     "output_type": "display_data"
    }
   ],
   "source": [
    "sns.lineplot(x='epoch', y='val_accuracy', hue='Learning Rate', data=df);"
   ]
  },
  {
   "cell_type": "code",
   "execution_count": 85,
   "metadata": {},
   "outputs": [
    {
     "data": {
      "image/png": "[encoded data removed]",
      "text/plain": [
       "<Figure size 432x288 with 1 Axes>"
      ]
     },
     "metadata": {
      "needs_background": "light"
     },
     "output_type": "display_data"
    }
   ],
   "source": [
    "sns.lineplot(x='epoch', y='val_loss', hue='Learning Rate', data=df);"
   ]
  },
  {
   "cell_type": "markdown",
   "metadata": {
    "colab_type": "text",
    "id": "gxMtSRhV9Q7I"
   },
   "source": [
    "### Experiment with different Optimizers\n",
    "* Run 5 experiments with various optimizers available in TensorFlow. See list [here](https://www.tensorflow.org/api_docs/python/tf/keras/optimizers)\n",
    "* Visualize the results\n",
    "* Write up an analysis of the experiments and select the \"best\" performing model among your experiments. Make sure to compare against the previous experiments and your model's performance yesterday.\n",
    "* Repeat the experiment combining Learning Rate and different optimizers. Does the best performing model change? "
   ]
  },
  {
   "cell_type": "code",
   "execution_count": 87,
   "metadata": {
    "colab": {},
    "colab_type": "code",
    "id": "ujLuzdNA91ip"
   },
   "outputs": [
    {
     "name": "stdout",
     "output_type": "stream",
     "text": [
      "Epoch 1/30\n",
      "2094/2094 [==============================] - 4s 2ms/step - loss: 0.3150 - accuracy: 0.9082 - val_loss: 0.4934 - val_accuracy: 0.8608\n",
      "Epoch 2/30\n",
      "2094/2094 [==============================] - 4s 2ms/step - loss: 0.3076 - accuracy: 0.9104 - val_loss: 0.5096 - val_accuracy: 0.8557\n",
      "Epoch 3/30\n",
      "2094/2094 [==============================] - 3s 2ms/step - loss: 0.3013 - accuracy: 0.9131 - val_loss: 0.5085 - val_accuracy: 0.8570\n",
      "Epoch 4/30\n",
      "2094/2094 [==============================] - 4s 2ms/step - loss: 0.2951 - accuracy: 0.9145 - val_loss: 0.5108 - val_accuracy: 0.8562oss: 0.2\n",
      "Epoch 5/30\n",
      "2094/2094 [==============================] - 3s 2ms/step - loss: 0.2886 - accuracy: 0.9163 - val_loss: 0.5055 - val_accuracy: 0.8580\n",
      "Epoch 6/30\n",
      "2094/2094 [==============================] - 3s 2ms/step - loss: 0.2820 - accuracy: 0.9187 - val_loss: 0.5154 - val_accuracy: 0.8572\n",
      "Epoch 7/30\n",
      "2094/2094 [==============================] - 3s 2ms/step - loss: 0.2760 - accuracy: 0.9201 - val_loss: 0.5131 - val_accuracy: 0.8576\n",
      "Epoch 8/30\n",
      "2094/2094 [==============================] - 4s 2ms/step - loss: 0.2707 - accuracy: 0.9215 - val_loss: 0.5250 - val_accuracy: 0.8553\n",
      "Epoch 9/30\n",
      "2094/2094 [==============================] - 3s 2ms/step - loss: 0.2644 - accuracy: 0.9233 - val_loss: 0.5192 - val_accuracy: 0.8565\n",
      "Epoch 10/30\n",
      "2094/2094 [==============================] - 3s 2ms/step - loss: 0.2594 - accuracy: 0.9242 - val_loss: 0.5289 - val_accuracy: 0.8570\n",
      "Epoch 11/30\n",
      "2094/2094 [==============================] - 3s 2ms/step - loss: 0.2544 - accuracy: 0.9263 - val_loss: 0.5314 - val_accuracy: 0.8577\n",
      "Epoch 12/30\n",
      "2094/2094 [==============================] - 3s 1ms/step - loss: 0.2497 - accuracy: 0.9270 - val_loss: 0.5404 - val_accuracy: 0.8577\n",
      "Epoch 13/30\n",
      "2094/2094 [==============================] - 3s 2ms/step - loss: 0.2436 - accuracy: 0.9295 - val_loss: 0.5610 - val_accuracy: 0.8494\n",
      "Epoch 14/30\n",
      "2094/2094 [==============================] - 3s 1ms/step - loss: 0.2389 - accuracy: 0.9312 - val_loss: 0.5464 - val_accuracy: 0.8553\n",
      "Epoch 15/30\n",
      "2094/2094 [==============================] - 3s 1ms/step - loss: 0.2338 - accuracy: 0.9317 - val_loss: 0.5473 - val_accuracy: 0.8557\n",
      "Epoch 16/30\n",
      "2094/2094 [==============================] - 3s 2ms/step - loss: 0.2286 - accuracy: 0.9339 - val_loss: 0.5549 - val_accuracy: 0.8553\n",
      "Epoch 17/30\n",
      "2094/2094 [==============================] - 3s 2ms/step - loss: 0.2236 - accuracy: 0.9353 - val_loss: 0.5632 - val_accuracy: 0.8532\n",
      "Epoch 18/30\n",
      "2094/2094 [==============================] - 3s 2ms/step - loss: 0.2194 - accuracy: 0.9372 - val_loss: 0.5833 - val_accuracy: 0.8503\n",
      "Epoch 19/30\n",
      "2094/2094 [==============================] - 3s 2ms/step - loss: 0.2153 - accuracy: 0.9374 - val_loss: 0.5748 - val_accuracy: 0.8525\n",
      "Epoch 20/30\n",
      "2094/2094 [==============================] - 3s 2ms/step - loss: 0.2110 - accuracy: 0.9394 - val_loss: 0.5782 - val_accuracy: 0.8538\n",
      "Epoch 21/30\n",
      "2094/2094 [==============================] - 3s 2ms/step - loss: 0.2067 - accuracy: 0.9400 - val_loss: 0.5934 - val_accuracy: 0.8529\n",
      "Epoch 22/30\n",
      "2094/2094 [==============================] - 4s 2ms/step - loss: 0.2025 - accuracy: 0.9413 - val_loss: 0.5846 - val_accuracy: 0.8537\n",
      "Epoch 23/30\n",
      "2094/2094 [==============================] - 3s 2ms/step - loss: 0.1987 - accuracy: 0.9431 - val_loss: 0.6111 - val_accuracy: 0.8491\n",
      "Epoch 24/30\n",
      "2094/2094 [==============================] - 3s 2ms/step - loss: 0.1937 - accuracy: 0.9442 - val_loss: 0.6149 - val_accuracy: 0.8485\n",
      "Epoch 25/30\n",
      "2094/2094 [==============================] - 3s 2ms/step - loss: 0.1903 - accuracy: 0.9447 - val_loss: 0.6153 - val_accuracy: 0.8512\n",
      "Epoch 26/30\n",
      "2094/2094 [==============================] - 3s 2ms/step - loss: 0.1858 - accuracy: 0.9467 - val_loss: 0.6203 - val_accuracy: 0.8500\n",
      "Epoch 27/30\n",
      "2094/2094 [==============================] - 3s 1ms/step - loss: 0.1823 - accuracy: 0.9478 - val_loss: 0.6239 - val_accuracy: 0.8523\n",
      "Epoch 28/30\n",
      "2094/2094 [==============================] - 3s 1ms/step - loss: 0.1790 - accuracy: 0.9483 - val_loss: 0.6426 - val_accuracy: 0.8477\n",
      "Epoch 29/30\n",
      "2094/2094 [==============================] - 3s 2ms/step - loss: 0.1749 - accuracy: 0.9491 - val_loss: 0.6459 - val_accuracy: 0.8502\n",
      "Epoch 30/30\n",
      "2094/2094 [==============================] - 4s 2ms/step - loss: 0.1705 - accuracy: 0.9508 - val_loss: 0.6490 - val_accuracy: 0.8510\n"
     ]
    }
   ],
   "source": [
    "def create_model_1(lr=.01):  \n",
    "\n",
    "    opt = tf.keras.optimizers.Adamax(\n",
    "        learning_rate=0.001, beta_1=0.9, beta_2=0.999, epsilon=1e-07,\n",
    "        name='Adamax', **kwargs)\n",
    "\n",
    "    model = Sequential([\n",
    "          # hidden layer 1 \n",
    "          Dense(100, activation='relu', input_dim=784),\n",
    "          # hidden layer 2 \n",
    "          Dense(32, activation='relu'),\n",
    "          # output layer \n",
    "          Dense(10, activation='softmax')\n",
    "\n",
    "    ])\n",
    "\n",
    "    model.compile(optimizer=opt, \n",
    "                  loss='sparse_categorical_crossentropy',\n",
    "                  metrics=['accuracy'])\n",
    "    return model\n",
    "\n",
    "model_A = create_model()\n",
    "model_Adamax = model.fit(X_train, \n",
    "          y_train, \n",
    "          validation_data=(X_test, y_test),\n",
    "          epochs=30)"
   ]
  },
  {
   "cell_type": "code",
   "execution_count": 88,
   "metadata": {},
   "outputs": [
    {
     "name": "stdout",
     "output_type": "stream",
     "text": [
      "Epoch 1/30\n",
      "2094/2094 [==============================] - 3s 2ms/step - loss: 0.1677 - accuracy: 0.9530 - val_loss: 0.6565 - val_accuracy: 0.8493\n",
      "Epoch 2/30\n",
      "2094/2094 [==============================] - 3s 1ms/step - loss: 0.1652 - accuracy: 0.9529 - val_loss: 0.6625 - val_accuracy: 0.8475\n",
      "Epoch 3/30\n",
      "2094/2094 [==============================] - 3s 1ms/step - loss: 0.1611 - accuracy: 0.9544 - val_loss: 0.6876 - val_accuracy: 0.8453\n",
      "Epoch 4/30\n",
      "2094/2094 [==============================] - 3s 1ms/step - loss: 0.1577 - accuracy: 0.9551 - val_loss: 0.6801 - val_accuracy: 0.8474\n",
      "Epoch 5/30\n",
      "2094/2094 [==============================] - 3s 1ms/step - loss: 0.1547 - accuracy: 0.9566 - val_loss: 0.6878 - val_accuracy: 0.8478\n",
      "Epoch 6/30\n",
      "2094/2094 [==============================] - 3s 1ms/step - loss: 0.1518 - accuracy: 0.9574 - val_loss: 0.6973 - val_accuracy: 0.8458\n",
      "Epoch 7/30\n",
      "2094/2094 [==============================] - 3s 2ms/step - loss: 0.1487 - accuracy: 0.9587 - val_loss: 0.6983 - val_accuracy: 0.8468\n",
      "Epoch 8/30\n",
      "2094/2094 [==============================] - 3s 1ms/step - loss: 0.1448 - accuracy: 0.9595 - val_loss: 0.7315 - val_accuracy: 0.8451\n",
      "Epoch 9/30\n",
      "2094/2094 [==============================] - 3s 1ms/step - loss: 0.1426 - accuracy: 0.9602 - val_loss: 0.7207 - val_accuracy: 0.8468\n",
      "Epoch 10/30\n",
      "2094/2094 [==============================] - 3s 2ms/step - loss: 0.1401 - accuracy: 0.9613 - val_loss: 0.7301 - val_accuracy: 0.8459\n",
      "Epoch 11/30\n",
      "2094/2094 [==============================] - 3s 1ms/step - loss: 0.1360 - accuracy: 0.9628 - val_loss: 0.7366 - val_accuracy: 0.8447\n",
      "Epoch 12/30\n",
      "2094/2094 [==============================] - 3s 1ms/step - loss: 0.1341 - accuracy: 0.9626 - val_loss: 0.7383 - val_accuracy: 0.8459\n",
      "Epoch 13/30\n",
      "2094/2094 [==============================] - 3s 1ms/step - loss: 0.1319 - accuracy: 0.9634 - val_loss: 0.7795 - val_accuracy: 0.8414\n",
      "Epoch 14/30\n",
      "2094/2094 [==============================] - 3s 2ms/step - loss: 0.1287 - accuracy: 0.9644 - val_loss: 0.7784 - val_accuracy: 0.8417\n",
      "Epoch 15/30\n",
      "2094/2094 [==============================] - 3s 1ms/step - loss: 0.1257 - accuracy: 0.9656 - val_loss: 0.7611 - val_accuracy: 0.8455\n",
      "Epoch 16/30\n",
      "2094/2094 [==============================] - 3s 2ms/step - loss: 0.1223 - accuracy: 0.9667 - val_loss: 0.7831 - val_accuracy: 0.8453\n",
      "Epoch 17/30\n",
      "2094/2094 [==============================] - 3s 1ms/step - loss: 0.1200 - accuracy: 0.9673 - val_loss: 0.7816 - val_accuracy: 0.8448\n",
      "Epoch 18/30\n",
      "2094/2094 [==============================] - 3s 1ms/step - loss: 0.1174 - accuracy: 0.9681 - val_loss: 0.7947 - val_accuracy: 0.8438\n",
      "Epoch 19/30\n",
      "2094/2094 [==============================] - 3s 1ms/step - loss: 0.1150 - accuracy: 0.9688 - val_loss: 0.8174 - val_accuracy: 0.8415\n",
      "Epoch 20/30\n",
      "2094/2094 [==============================] - 3s 1ms/step - loss: 0.1127 - accuracy: 0.9695 - val_loss: 0.8183 - val_accuracy: 0.8432\n",
      "Epoch 21/30\n",
      "2094/2094 [==============================] - 3s 2ms/step - loss: 0.1106 - accuracy: 0.9700 - val_loss: 0.8446 - val_accuracy: 0.8376\n",
      "Epoch 22/30\n",
      "2094/2094 [==============================] - 3s 1ms/step - loss: 0.1086 - accuracy: 0.9711 - val_loss: 0.8360 - val_accuracy: 0.8407\n",
      "Epoch 23/30\n",
      "2094/2094 [==============================] - 3s 1ms/step - loss: 0.1057 - accuracy: 0.9719 - val_loss: 0.8625 - val_accuracy: 0.8401\n",
      "Epoch 24/30\n",
      "2094/2094 [==============================] - 3s 1ms/step - loss: 0.1030 - accuracy: 0.9728 - val_loss: 0.8527 - val_accuracy: 0.8408\n",
      "Epoch 25/30\n",
      "2094/2094 [==============================] - 4s 2ms/step - loss: 0.1014 - accuracy: 0.9738 - val_loss: 0.8742 - val_accuracy: 0.8376\n",
      "Epoch 26/30\n",
      "2094/2094 [==============================] - 4s 2ms/step - loss: 0.0996 - accuracy: 0.9733 - val_loss: 0.8687 - val_accuracy: 0.8422\n",
      "Epoch 27/30\n",
      "2094/2094 [==============================] - 4s 2ms/step - loss: 0.0972 - accuracy: 0.9744 - val_loss: 0.8875 - val_accuracy: 0.8411\n",
      "Epoch 28/30\n",
      "2094/2094 [==============================] - 5s 2ms/step - loss: 0.0961 - accuracy: 0.9748 - val_loss: 0.8938 - val_accuracy: 0.8399\n",
      "Epoch 29/30\n",
      "2094/2094 [==============================] - 4s 2ms/step - loss: 0.0949 - accuracy: 0.9752 - val_loss: 0.9124 - val_accuracy: 0.8378\n",
      "Epoch 30/30\n",
      "2094/2094 [==============================] - 4s 2ms/step - loss: 0.0916 - accuracy: 0.9760 - val_loss: 0.9077 - val_accuracy: 0.8393\n"
     ]
    }
   ],
   "source": [
    "def create_model_2(lr=.01):  \n",
    "\n",
    "    opt = tf.keras.optimizers.Adadelta(\n",
    "        learning_rate=0.001, rho=0.95, epsilon=1e-07, name='Adadelta')\n",
    "\n",
    "    model = Sequential([\n",
    "          # hidden layer 1 \n",
    "          Dense(100, activation='relu', input_dim=784),\n",
    "          # hidden layer 2 \n",
    "          Dense(32, activation='relu'),\n",
    "          # output layer \n",
    "          Dense(10, activation='softmax')\n",
    "\n",
    "    ])\n",
    "\n",
    "    model.compile(optimizer=opt, \n",
    "                  loss='sparse_categorical_crossentropy',\n",
    "                  metrics=['accuracy'])\n",
    "    return model\n",
    "\n",
    "model_Ad = create_model()\n",
    "model_Adadelta = model.fit(X_train, \n",
    "          y_train, \n",
    "          validation_data=(X_test, y_test),\n",
    "          epochs=30)"
   ]
  },
  {
   "cell_type": "markdown",
   "metadata": {
    "colab_type": "text",
    "id": "ydAqeY9S8uHA"
   },
   "source": [
    "### Additional Written Tasks\n",
    "\n",
    "1. Describe the process of backpropagation in your own words: \n",
    "```\n",
    "Your answer goes here.\n",
    "```\n",
    "\n"
   ]
  },
  {
   "cell_type": "markdown",
   "metadata": {
    "colab_type": "text",
    "id": "FwlRJSfBlCvy"
   },
   "source": [
    "## Stretch Goals: \n",
    "\n",
    "- Implement GridSearch on anyone of the experiments\n",
    "- On the learning rate experiments, implement [EarlyStopping](https://www.tensorflow.org/api_docs/python/tf/keras/callbacks/EarlyStopping)\n",
    "- Review material on the math behind gradient descent: \n",
    "\n",
    "  - Gradient Descent\n",
    "    - Gradient Descent, Step-by-Step  by StatQuest w/ Josh Starmer. This will help you understand the gradient descent based optimization that happens underneath the hood of neural networks. It uses a non-neural network example, which I believe is a gentler introduction. You will hear me refer to this technique as \"vanilla\" gradient descent. \n",
    "    - Stochastic Gradient Descent, Clearly Explained!!! by StatQuest w/ Josh Starmer. This builds on the techniques in the previous video.  This technique is the one that is actually implemented inside modern 'nets. \n",
    "These are great resources to help you understand tomorrow's material at a deeper level. I highly recommend watching these ahead of tomorrow.\n",
    "\n",
    "  - Background Math\n",
    "    - Dot products and duality by 3Blue1Brown. Explains the core linear algebra operation happening in today's perceptron.\n",
    "The paradox of the derivative by 3Blue1Brown. Does a great job explaining a derivative. \n",
    "    - Visualizing the chain rule and product rule by 3Blue1Brown. Explains the black magic that happens within Stochastic Gradient Descent. \n",
    "These math resources are very much optional. They can be very heady, but I encourage you to explore. Your understanding of neural networks will greatly increase if you understand this math background.\n",
    "\n",
    "\n"
   ]
  }
 ],
 "metadata": {
  "colab": {
   "collapsed_sections": [],
   "name": "LS_DS_432_Train_Assignment.ipynb",
   "provenance": []
  },
  "kernelspec": {
   "display_name": "Python 3",
   "language": "python",
   "name": "python3"
  },
  "language_info": {
   "codemirror_mode": {
    "name": "ipython",
    "version": 3
   },
   "file_extension": ".py",
   "mimetype": "text/x-python",
   "name": "python",
   "nbconvert_exporter": "python",
   "pygments_lexer": "ipython3",
   "version": "3.8.7"
  },
  "nteract": {
   "version": "0.22.4"
  }
 },
 "nbformat": 4,
 "nbformat_minor": 1
}
